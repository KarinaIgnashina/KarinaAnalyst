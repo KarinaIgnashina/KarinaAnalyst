{
 "cells": [
  {
   "cell_type": "markdown",
   "metadata": {},
   "source": [
    "<div style=\"border:solid green 3px; padding: 20px\">\n",
    "\n",
    "<b>Привет, Карина! :)</b>\n",
    "\n",
    "Меня зовут Сороколетов Илья и я буду проверять твой проект. \n",
    "\n",
    "Предлагаю общаться на «**ты**», но если тебе будет комфортнее общаться на «**вы**», то сообщи об этом в комментариях)\n",
    "\n",
    "\n",
    "Для твоего удобства, я буду выделять свои комментарии следующим образом:\n",
    "\n",
    "<div class=\"alert alert-danger\">\n",
    "<b>❌ Комментарий ревьюера:</b> Самые важные замечания. Они указывают на ключевые моменты, которые влияют на конечный результат проекта. </div>\n",
    "\n",
    "<div class=\"alert alert-warning\">\n",
    "<b>⚠️ Комментарий ревьюера:</b> Советы или замечания, которые помогут сделать твою работу лучше, но необязательны к выполнению.\n",
    "\n",
    "</div>\n",
    "\n",
    "<div class=\"alert alert-success\">\n",
    "<b>✔️ Комментарий ревьюера:</b> Так я выделяю все остальные комментарии.</div>\n",
    "\n",
    "Давай работать над проектом в диалоге: если ты что-то меняешь в проекте по моим рекомендациям — пиши об этом. Выбери для своих комментариев какой-то заметный цвет, так мне будет легче отследить изменения, например вот так:\n",
    "<div class=\"alert alert-info\">\n",
    "<b>Комментарий студента:</b>\n",
    "<br>\n",
    "</div>\n",
    "\n",
    "Пожалуйста, не перемещай, не изменяй и не удаляй мои комментарии. Если ты оставляешь свои комментарии, то делай это под моими, чтобы сообщения были расположены в хронологическом порядке. Всё это поможет выполнить повторную проверку твоего проекта оперативнее. \n",
    "\n",
    "Обязательно задавай вопросы если они возникнут, а я перехожу к проверке)\n",
    "\n",
    "P.S. На всякий случай, я оставлю пустой шаблон для твоих комментариев в ячейке ниже. Кликни на него два раза, скопируй код и вставляй его в пустую ячейку там, где ты хочешь оставить комментарий. Не забудь только перед этим сменить тип ячейки на Markdown. Как это сделать можно посмотреть на этом видео\n",
    "\n",
    "    https://youtu.be/s0q2GpcYxo4?t=685\n",
    "\n",
    "Также, перед отправкой работы я рекомендую нажимать Kernel -> Restart & Run All. Это перезапустит ядро и по очереди выполнит все ячейки. Так ты сможешь проверить, что всё работает корректно. Кнопка Kernel находится в панели сверху\n",
    "\n"
   ]
  },
  {
   "cell_type": "markdown",
   "metadata": {},
   "source": [
    "<div class=\"alert alert-info\">\n",
    "<b>Комментарий студента:</b>\n",
    "<br>Место для твоего комментария\n",
    "</div>"
   ]
  },
  {
   "cell_type": "markdown",
   "metadata": {
    "id": "E0vqbgi9ay0H"
   },
   "source": [
    "# Яндекс.Музыка"
   ]
  },
  {
   "cell_type": "markdown",
   "metadata": {
    "id": "VUC88oWjTJw2"
   },
   "source": [
    "Сравнение Москвы и Петербурга окружено мифами. Например:\n",
    " * Москва — мегаполис, подчинённый жёсткому ритму рабочей недели;\n",
    " * Петербург — культурная столица, со своими вкусами.\n",
    "\n",
    "На данных Яндекс.Музыки вы сравните поведение пользователей двух столиц.\n",
    "\n",
    "**Цель исследования** — проверьте три гипотезы:\n",
    "1. Активность пользователей зависит от дня недели. Причём в Москве и Петербурге это проявляется по-разному.\n",
    "2. В понедельник утром в Москве преобладают одни жанры, а в Петербурге — другие. Так же и вечером пятницы преобладают разные жанры — в зависимости от города. \n",
    "3. Москва и Петербург предпочитают разные жанры музыки. В Москве чаще слушают поп-музыку, в Петербурге — русский рэп.\n",
    "\n",
    "**Ход исследования**\n",
    "\n",
    "Данные о поведении пользователей вы получите из файла `yandex_music_project.csv`. О качестве данных ничего не известно. Поэтому перед проверкой гипотез понадобится обзор данных. \n",
    "\n",
    "Вы проверите данные на ошибки и оцените их влияние на исследование. Затем, на этапе предобработки вы поищете возможность исправить самые критичные ошибки данных.\n",
    " \n",
    "Таким образом, исследование пройдёт в три этапа:\n",
    " 1. Обзор данных.\n",
    " 2. Предобработка данных.\n",
    " 3. Проверка гипотез.\n",
    "\n"
   ]
  },
  {
   "cell_type": "markdown",
   "metadata": {
    "id": "Ml1hmfXC_Zcs"
   },
   "source": [
    "## Обзор данных\n",
    "\n",
    "Составьте первое представление о данных Яндекс.Музыки.\n",
    "\n",
    "\n"
   ]
  },
  {
   "cell_type": "markdown",
   "metadata": {
    "id": "57eAOGIz_Zcs"
   },
   "source": [
    "Основной инструмент аналитика — `pandas`. Импортируйте эту библиотеку."
   ]
  },
  {
   "cell_type": "code",
   "execution_count": 1,
   "metadata": {
    "id": "AXN7PHPN_Zcs"
   },
   "outputs": [],
   "source": [
    "import pandas as pd\n",
    "# импорт библиотеки pandas"
   ]
  },
  {
   "cell_type": "markdown",
   "metadata": {},
   "source": [
    "<div class=\"alert alert-success\">\n",
    "<b>✔️ Комментарий ревьюера:</b> \n",
    "<br>Очень здорово, что ты используешь сокращение pd для Pandas, это общепринятое сокращение для этой библиотеки для удобной дальнейшей работы.\n",
    "</div>\n",
    "\n",
    "\n"
   ]
  },
  {
   "cell_type": "markdown",
   "metadata": {
    "id": "SG23P8tt_Zcs"
   },
   "source": [
    "Прочитайте файл `yandex_music_project.csv` из папки `/datasets` и сохраните его в переменной `df`:"
   ]
  },
  {
   "cell_type": "code",
   "execution_count": 2,
   "metadata": {
    "id": "fFVu7vqh_Zct"
   },
   "outputs": [],
   "source": [
    "df = pd.read_csv(\"/datasets/yandex_music_project.csv\") \n",
    "# чтение файла с данными и сохранение в df"
   ]
  },
  {
   "cell_type": "markdown",
   "metadata": {
    "id": "rDoOMd3uTqnZ"
   },
   "source": [
    "Выведите на экран первые десять строк таблицы:"
   ]
  },
  {
   "cell_type": "code",
   "execution_count": 3,
   "metadata": {
    "id": "oWTVX3gW_Zct"
   },
   "outputs": [
    {
     "data": {
      "text/html": [
       "<div>\n",
       "<style scoped>\n",
       "    .dataframe tbody tr th:only-of-type {\n",
       "        vertical-align: middle;\n",
       "    }\n",
       "\n",
       "    .dataframe tbody tr th {\n",
       "        vertical-align: top;\n",
       "    }\n",
       "\n",
       "    .dataframe thead th {\n",
       "        text-align: right;\n",
       "    }\n",
       "</style>\n",
       "<table border=\"1\" class=\"dataframe\">\n",
       "  <thead>\n",
       "    <tr style=\"text-align: right;\">\n",
       "      <th></th>\n",
       "      <th>userID</th>\n",
       "      <th>Track</th>\n",
       "      <th>artist</th>\n",
       "      <th>genre</th>\n",
       "      <th>City</th>\n",
       "      <th>time</th>\n",
       "      <th>Day</th>\n",
       "    </tr>\n",
       "  </thead>\n",
       "  <tbody>\n",
       "    <tr>\n",
       "      <td>0</td>\n",
       "      <td>FFB692EC</td>\n",
       "      <td>Kamigata To Boots</td>\n",
       "      <td>The Mass Missile</td>\n",
       "      <td>rock</td>\n",
       "      <td>Saint-Petersburg</td>\n",
       "      <td>20:28:33</td>\n",
       "      <td>Wednesday</td>\n",
       "    </tr>\n",
       "    <tr>\n",
       "      <td>1</td>\n",
       "      <td>55204538</td>\n",
       "      <td>Delayed Because of Accident</td>\n",
       "      <td>Andreas Rönnberg</td>\n",
       "      <td>rock</td>\n",
       "      <td>Moscow</td>\n",
       "      <td>14:07:09</td>\n",
       "      <td>Friday</td>\n",
       "    </tr>\n",
       "    <tr>\n",
       "      <td>2</td>\n",
       "      <td>20EC38</td>\n",
       "      <td>Funiculì funiculà</td>\n",
       "      <td>Mario Lanza</td>\n",
       "      <td>pop</td>\n",
       "      <td>Saint-Petersburg</td>\n",
       "      <td>20:58:07</td>\n",
       "      <td>Wednesday</td>\n",
       "    </tr>\n",
       "    <tr>\n",
       "      <td>3</td>\n",
       "      <td>A3DD03C9</td>\n",
       "      <td>Dragons in the Sunset</td>\n",
       "      <td>Fire + Ice</td>\n",
       "      <td>folk</td>\n",
       "      <td>Saint-Petersburg</td>\n",
       "      <td>08:37:09</td>\n",
       "      <td>Monday</td>\n",
       "    </tr>\n",
       "    <tr>\n",
       "      <td>4</td>\n",
       "      <td>E2DC1FAE</td>\n",
       "      <td>Soul People</td>\n",
       "      <td>Space Echo</td>\n",
       "      <td>dance</td>\n",
       "      <td>Moscow</td>\n",
       "      <td>08:34:34</td>\n",
       "      <td>Monday</td>\n",
       "    </tr>\n",
       "    <tr>\n",
       "      <td>5</td>\n",
       "      <td>842029A1</td>\n",
       "      <td>Преданная</td>\n",
       "      <td>IMPERVTOR</td>\n",
       "      <td>rusrap</td>\n",
       "      <td>Saint-Petersburg</td>\n",
       "      <td>13:09:41</td>\n",
       "      <td>Friday</td>\n",
       "    </tr>\n",
       "    <tr>\n",
       "      <td>6</td>\n",
       "      <td>4CB90AA5</td>\n",
       "      <td>True</td>\n",
       "      <td>Roman Messer</td>\n",
       "      <td>dance</td>\n",
       "      <td>Moscow</td>\n",
       "      <td>13:00:07</td>\n",
       "      <td>Wednesday</td>\n",
       "    </tr>\n",
       "    <tr>\n",
       "      <td>7</td>\n",
       "      <td>F03E1C1F</td>\n",
       "      <td>Feeling This Way</td>\n",
       "      <td>Polina Griffith</td>\n",
       "      <td>dance</td>\n",
       "      <td>Moscow</td>\n",
       "      <td>20:47:49</td>\n",
       "      <td>Wednesday</td>\n",
       "    </tr>\n",
       "    <tr>\n",
       "      <td>8</td>\n",
       "      <td>8FA1D3BE</td>\n",
       "      <td>И вновь продолжается бой</td>\n",
       "      <td>NaN</td>\n",
       "      <td>ruspop</td>\n",
       "      <td>Moscow</td>\n",
       "      <td>09:17:40</td>\n",
       "      <td>Friday</td>\n",
       "    </tr>\n",
       "    <tr>\n",
       "      <td>9</td>\n",
       "      <td>E772D5C0</td>\n",
       "      <td>Pessimist</td>\n",
       "      <td>NaN</td>\n",
       "      <td>dance</td>\n",
       "      <td>Saint-Petersburg</td>\n",
       "      <td>21:20:49</td>\n",
       "      <td>Wednesday</td>\n",
       "    </tr>\n",
       "  </tbody>\n",
       "</table>\n",
       "</div>"
      ],
      "text/plain": [
       "     userID                        Track            artist   genre  \\\n",
       "0  FFB692EC            Kamigata To Boots  The Mass Missile    rock   \n",
       "1  55204538  Delayed Because of Accident  Andreas Rönnberg    rock   \n",
       "2    20EC38            Funiculì funiculà       Mario Lanza     pop   \n",
       "3  A3DD03C9        Dragons in the Sunset        Fire + Ice    folk   \n",
       "4  E2DC1FAE                  Soul People        Space Echo   dance   \n",
       "5  842029A1                    Преданная         IMPERVTOR  rusrap   \n",
       "6  4CB90AA5                         True      Roman Messer   dance   \n",
       "7  F03E1C1F             Feeling This Way   Polina Griffith   dance   \n",
       "8  8FA1D3BE     И вновь продолжается бой               NaN  ruspop   \n",
       "9  E772D5C0                    Pessimist               NaN   dance   \n",
       "\n",
       "             City        time        Day  \n",
       "0  Saint-Petersburg  20:28:33  Wednesday  \n",
       "1            Moscow  14:07:09     Friday  \n",
       "2  Saint-Petersburg  20:58:07  Wednesday  \n",
       "3  Saint-Petersburg  08:37:09     Monday  \n",
       "4            Moscow  08:34:34     Monday  \n",
       "5  Saint-Petersburg  13:09:41     Friday  \n",
       "6            Moscow  13:00:07  Wednesday  \n",
       "7            Moscow  20:47:49  Wednesday  \n",
       "8            Moscow  09:17:40     Friday  \n",
       "9  Saint-Petersburg  21:20:49  Wednesday  "
      ]
     },
     "execution_count": 3,
     "metadata": {},
     "output_type": "execute_result"
    }
   ],
   "source": [
    "df.head(10)\n",
    "# получение первых 10 строк таблицы df"
   ]
  },
  {
   "cell_type": "markdown",
   "metadata": {},
   "source": [
    "<div class=\"alert alert-warning\">\n",
    "<b>⚠️ Комментарий ревьюера:</b> \n",
    "<br>Обрати внимание, что здесь использование функции display() ни на что не влияет, а это значит, что её можно не применять\n",
    "</div>\n",
    "<div class=\"alert alert-info\">\n",
    "<b>Комментарий студента:</b>\n",
    "<br>убрала display\n",
    "</div>"
   ]
  },
  {
   "cell_type": "markdown",
   "metadata": {
    "id": "EO73Kwic_Zct"
   },
   "source": [
    "Одной командой получить общую информацию о таблице:"
   ]
  },
  {
   "cell_type": "code",
   "execution_count": 4,
   "metadata": {
    "id": "DSf2kIb-_Zct"
   },
   "outputs": [
    {
     "name": "stdout",
     "output_type": "stream",
     "text": [
      "<class 'pandas.core.frame.DataFrame'>\n",
      "RangeIndex: 65079 entries, 0 to 65078\n",
      "Data columns (total 7 columns):\n",
      "  userID    65079 non-null object\n",
      "Track       63848 non-null object\n",
      "artist      57876 non-null object\n",
      "genre       63881 non-null object\n",
      "  City      65079 non-null object\n",
      "time        65079 non-null object\n",
      "Day         65079 non-null object\n",
      "dtypes: object(7)\n",
      "memory usage: 3.5+ MB\n"
     ]
    }
   ],
   "source": [
    "df.info()\n",
    "# получение общей информации о данных в таблице df"
   ]
  },
  {
   "cell_type": "markdown",
   "metadata": {
    "id": "TaQ2Iwbr_Zct"
   },
   "source": [
    "Итак, в таблице семь столбцов. Тип данных во всех столбцах — `object`.\n",
    "\n",
    "Согласно документации к данным:\n",
    "* `userID` — идентификатор пользователя;\n",
    "* `Track` — название трека;  \n",
    "* `artist` — имя исполнителя;\n",
    "* `genre` — название жанра;\n",
    "* `City` — город пользователя;\n",
    "* `time` — время начала прослушивания;\n",
    "* `Day` — день недели.\n",
    "\n",
    "В названиях колонок видны три нарушения стиля:\n",
    "1. Строчные буквы сочетаются с прописными.\n",
    "2. Встречаются пробелы.\n",
    "3. Найдите ещё одну проблему в названии колонок и опишите её в этом пункте.\n",
    "\n",
    "\n",
    "\n",
    "Количество значений в столбцах различается. Значит, в данных есть пропущенные значения.\n"
   ]
  },
  {
   "cell_type": "markdown",
   "metadata": {},
   "source": [
    "<div class=\"alert alert-success\">\n",
    "<b>✔️ Комментарий ревьюера:</b> \n",
    "<br>И это правильный ответ! Отличная работа!\n",
    "</div>"
   ]
  },
  {
   "cell_type": "markdown",
   "metadata": {
    "id": "MCB6-dXG_Zct"
   },
   "source": [
    "**Выводы**\n",
    "\n",
    "В каждой строке таблицы — данные о прослушанном треке. Часть колонок описывает саму композицию: название, исполнителя и жанр. Остальные данные рассказывают о пользователе: из какого он города, когда он слушал музыку. \n",
    "\n",
    "Предварительно можно утверждать, что, данных достаточно для проверки гипотез. Но встречаются пропуски в данных, а в названиях колонок — расхождения с хорошим стилем.\n",
    "\n",
    "Чтобы двигаться дальше, нужно устранить проблемы в данных."
   ]
  },
  {
   "cell_type": "markdown",
   "metadata": {
    "id": "SjYF6Ub9_Zct"
   },
   "source": [
    "## Предобработка данных\n",
    "Исправьте стиль в заголовках столбцов, исключите пропуски. Затем проверьте данные на дубликаты."
   ]
  },
  {
   "cell_type": "markdown",
   "metadata": {
    "id": "dIaKXr29_Zct"
   },
   "source": [
    "### Стиль заголовков\n",
    "Выведите на экран названия столбцов:"
   ]
  },
  {
   "cell_type": "code",
   "execution_count": 5,
   "metadata": {
    "id": "oKOTdF_Q_Zct"
   },
   "outputs": [
    {
     "data": {
      "text/plain": [
       "Index(['  userID', 'Track', 'artist', 'genre', '  City  ', 'time', 'Day'], dtype='object')"
      ]
     },
     "execution_count": 5,
     "metadata": {},
     "output_type": "execute_result"
    }
   ],
   "source": [
    "df.columns\n",
    "# перечень названий столбцов таблицы df"
   ]
  },
  {
   "cell_type": "markdown",
   "metadata": {},
   "source": [
    "<div class=\"alert alert-warning\">\n",
    "<b>⚠️ Комментарий ревьюера:</b> \n",
    "<br>Для вывода столбцов на экран здесь не нужно использовать функцию display(): результат и так будет выведен, так как это последняя строчка ячейки.\n",
    "</div>\n",
    "<div class=\"alert alert-info\">\n",
    "<b>Комментарий студента:</b>\n",
    "<br>Убрала display\n",
    "</div>"
   ]
  },
  {
   "cell_type": "markdown",
   "metadata": {
    "id": "zj5534cv_Zct"
   },
   "source": [
    "Приведите названия в соответствие с хорошим стилем:\n",
    "* несколько слов в названии запишите в «змеином_регистре»,\n",
    "* все символы сделайте строчными,\n",
    "* устраните пробелы.\n",
    "\n",
    "Для этого переименуйте колонки так:\n",
    "* `'  userID'` → `'user_id'`;\n",
    "* `'Track'` → `'track'`;\n",
    "* `'  City  '` → `'city'`;\n",
    "* `'Day'` → `'day'`."
   ]
  },
  {
   "cell_type": "code",
   "execution_count": 6,
   "metadata": {
    "id": "ISlFqs5y_Zct"
   },
   "outputs": [],
   "source": [
    "df = df.rename(columns={'  userID': 'user_id','Track': 'track','  City  ': 'city','Day': 'day'})\n",
    "# переименование столбцов"
   ]
  },
  {
   "cell_type": "markdown",
   "metadata": {
    "id": "1dqbh00J_Zct"
   },
   "source": [
    "Проверьте результат. Для этого ещё раз выведите на экран названия столбцов:"
   ]
  },
  {
   "cell_type": "code",
   "execution_count": 7,
   "metadata": {
    "id": "d4NOAmTW_Zct"
   },
   "outputs": [
    {
     "data": {
      "text/plain": [
       "Index(['user_id', 'track', 'artist', 'genre', 'city', 'time', 'day'], dtype='object')"
      ]
     },
     "metadata": {},
     "output_type": "display_data"
    }
   ],
   "source": [
    "display(df.columns)\n",
    "# проверка результатов - перечень названий столбцов"
   ]
  },
  {
   "cell_type": "markdown",
   "metadata": {
    "id": "5ISfbcfY_Zct"
   },
   "source": [
    "### Пропуски значений\n",
    "Сначала посчитайте, сколько в таблице пропущенных значений. Для этого достаточно двух методов `pandas`:"
   ]
  },
  {
   "cell_type": "code",
   "execution_count": 8,
   "metadata": {
    "id": "RskX29qr_Zct"
   },
   "outputs": [
    {
     "data": {
      "text/plain": [
       "user_id       0\n",
       "track      1231\n",
       "artist     7203\n",
       "genre      1198\n",
       "city          0\n",
       "time          0\n",
       "day           0\n",
       "dtype: int64"
      ]
     },
     "metadata": {},
     "output_type": "display_data"
    }
   ],
   "source": [
    "display(df.isna().sum())\n",
    "# подсчёт пропусков"
   ]
  },
  {
   "cell_type": "markdown",
   "metadata": {
    "id": "qubhgnlO_Zct"
   },
   "source": [
    "Не все пропущенные значения влияют на исследование. Так в `track` и `artist` пропуски не важны для вашей работы. Достаточно заменить их явными обозначениями.\n",
    "\n",
    "Но пропуски в `genre` могут помешать сравнению музыкальных вкусов в Москве и Санкт-Петербурге. На практике было бы правильно установить причину пропусков и восстановить данные. Такой возможности нет в учебном проекте. Придётся:\n",
    "* заполнить и эти пропуски явными обозначениями,\n",
    "* оценить, насколько они повредят расчётам. "
   ]
  },
  {
   "cell_type": "markdown",
   "metadata": {
    "id": "fSv2laPA_Zct"
   },
   "source": [
    "Замените пропущенные значения в столбцах `track`, `artist` и `genre` на строку `'unknown'`. Для этого создайте список `columns_to_replace`, переберите его элементы циклом `for` и для каждого столбца выполните замену пропущенных значений:"
   ]
  },
  {
   "cell_type": "code",
   "execution_count": 9,
   "metadata": {
    "id": "KplB5qWs_Zct"
   },
   "outputs": [],
   "source": [
    "columns_to_replace = ['track', 'artist','genre']\n",
    "for column in columns_to_replace:\n",
    "    df[column] = df[column].fillna('unknown')\n",
    "# перебор названий столбцов в цикле и замена пропущенных значений на 'unknown'"
   ]
  },
  {
   "cell_type": "markdown",
   "metadata": {
    "id": "Ilsm-MZo_Zct"
   },
   "source": [
    "Убедитесь, что в таблице не осталось пропусков. Для этого ещё раз посчитайте пропущенные значения."
   ]
  },
  {
   "cell_type": "code",
   "execution_count": 10,
   "metadata": {
    "id": "Tq4nYRX4_Zct"
   },
   "outputs": [
    {
     "data": {
      "text/plain": [
       "user_id    0\n",
       "track      0\n",
       "artist     0\n",
       "genre      0\n",
       "city       0\n",
       "time       0\n",
       "day        0\n",
       "dtype: int64"
      ]
     },
     "metadata": {},
     "output_type": "display_data"
    }
   ],
   "source": [
    "display(df.isna().sum())\n",
    "# подсчёт пропусков"
   ]
  },
  {
   "cell_type": "markdown",
   "metadata": {},
   "source": [
    "<div class=\"alert alert-success\">\n",
    "<b>✔️ Комментарий ревьюера:</b> \n",
    "<br>Пропуски заменены верно!\n",
    "</div>"
   ]
  },
  {
   "cell_type": "markdown",
   "metadata": {
    "id": "BWKRtBJ3_Zct"
   },
   "source": [
    "### Дубликаты\n",
    "Посчитайте явные дубликаты в таблице одной командой:"
   ]
  },
  {
   "cell_type": "code",
   "execution_count": 11,
   "metadata": {
    "id": "36eES_S0_Zct"
   },
   "outputs": [
    {
     "data": {
      "text/plain": [
       "3826"
      ]
     },
     "metadata": {},
     "output_type": "display_data"
    }
   ],
   "source": [
    "display(df.duplicated().sum())\n",
    "# подсчёт явных дубликатов"
   ]
  },
  {
   "cell_type": "markdown",
   "metadata": {
    "id": "Ot25h6XR_Zct"
   },
   "source": [
    "Вызовите специальный метод `pandas`, чтобы удалить явные дубликаты:"
   ]
  },
  {
   "cell_type": "code",
   "execution_count": 12,
   "metadata": {
    "id": "exFHq6tt_Zct"
   },
   "outputs": [],
   "source": [
    "df = df.drop_duplicates().reset_index(drop=True)\n",
    "# удаление явных дубликатов (с удалением старых индексов и формированием новых)"
   ]
  },
  {
   "cell_type": "markdown",
   "metadata": {
    "id": "Im2YwBEG_Zct"
   },
   "source": [
    "Ещё раз посчитайте явные дубликаты в таблице — убедитесь, что полностью от них избавились:"
   ]
  },
  {
   "cell_type": "code",
   "execution_count": 13,
   "metadata": {
    "id": "-8PuNWQ0_Zct"
   },
   "outputs": [
    {
     "data": {
      "text/plain": [
       "0"
      ]
     },
     "metadata": {},
     "output_type": "display_data"
    }
   ],
   "source": [
    "display(df.duplicated().sum())\n",
    "# проверка на отсутствие дубликатов"
   ]
  },
  {
   "cell_type": "markdown",
   "metadata": {
    "id": "QlFBsxAr_Zct"
   },
   "source": [
    "Теперь избавьтесь от неявных дубликатов в колонке `genre`. Например, название одного и того же жанра может быть записано немного по-разному. Такие ошибки тоже повлияют на результат исследования."
   ]
  },
  {
   "cell_type": "markdown",
   "metadata": {
    "id": "eSjWwsOh_Zct"
   },
   "source": [
    "Выведите на экран список уникальных названий жанров, отсортированный в алфавитном порядке. Для этого:\n",
    "* извлеките нужный столбец датафрейма, \n",
    "* примените к нему метод сортировки,\n",
    "* для отсортированного столбца вызовите метод, который вернёт уникальные значения из столбца."
   ]
  },
  {
   "cell_type": "code",
   "execution_count": 14,
   "metadata": {
    "id": "JIUcqzZN_Zct"
   },
   "outputs": [
    {
     "data": {
      "text/plain": [
       "array(['acid', 'acoustic', 'action', 'adult', 'africa', 'afrikaans',\n",
       "       'alternative', 'alternativepunk', 'ambient', 'americana',\n",
       "       'animated', 'anime', 'arabesk', 'arabic', 'arena',\n",
       "       'argentinetango', 'art', 'audiobook', 'author', 'avantgarde',\n",
       "       'axé', 'baile', 'balkan', 'beats', 'bigroom', 'black', 'bluegrass',\n",
       "       'blues', 'bollywood', 'bossa', 'brazilian', 'breakbeat', 'breaks',\n",
       "       'broadway', 'cantautori', 'cantopop', 'canzone', 'caribbean',\n",
       "       'caucasian', 'celtic', 'chamber', 'chanson', 'children', 'chill',\n",
       "       'chinese', 'choral', 'christian', 'christmas', 'classical',\n",
       "       'classicmetal', 'club', 'colombian', 'comedy', 'conjazz',\n",
       "       'contemporary', 'country', 'cuban', 'dance', 'dancehall',\n",
       "       'dancepop', 'dark', 'death', 'deep', 'deutschrock', 'deutschspr',\n",
       "       'dirty', 'disco', 'dnb', 'documentary', 'downbeat', 'downtempo',\n",
       "       'drum', 'dub', 'dubstep', 'eastern', 'easy', 'electronic',\n",
       "       'electropop', 'emo', 'entehno', 'epicmetal', 'estrada', 'ethnic',\n",
       "       'eurofolk', 'european', 'experimental', 'extrememetal', 'fado',\n",
       "       'fairytail', 'film', 'fitness', 'flamenco', 'folk', 'folklore',\n",
       "       'folkmetal', 'folkrock', 'folktronica', 'forró', 'frankreich',\n",
       "       'französisch', 'french', 'funk', 'future', 'gangsta', 'garage',\n",
       "       'german', 'ghazal', 'gitarre', 'glitch', 'gospel', 'gothic',\n",
       "       'grime', 'grunge', 'gypsy', 'handsup', \"hard'n'heavy\", 'hardcore',\n",
       "       'hardstyle', 'hardtechno', 'hip', 'hip-hop', 'hiphop',\n",
       "       'historisch', 'holiday', 'hop', 'horror', 'house', 'hymn', 'idm',\n",
       "       'independent', 'indian', 'indie', 'indipop', 'industrial',\n",
       "       'inspirational', 'instrumental', 'international', 'irish', 'jam',\n",
       "       'japanese', 'jazz', 'jewish', 'jpop', 'jungle', 'k-pop',\n",
       "       'karadeniz', 'karaoke', 'kayokyoku', 'korean', 'laiko', 'latin',\n",
       "       'latino', 'leftfield', 'local', 'lounge', 'loungeelectronic',\n",
       "       'lovers', 'malaysian', 'mandopop', 'marschmusik', 'meditative',\n",
       "       'mediterranean', 'melodic', 'metal', 'metalcore', 'mexican',\n",
       "       'middle', 'minimal', 'miscellaneous', 'modern', 'mood', 'mpb',\n",
       "       'muslim', 'native', 'neoklassik', 'neue', 'new', 'newage',\n",
       "       'newwave', 'nu', 'nujazz', 'numetal', 'oceania', 'old', 'opera',\n",
       "       'orchestral', 'other', 'piano', 'podcasts', 'pop', 'popdance',\n",
       "       'popelectronic', 'popeurodance', 'poprussian', 'post',\n",
       "       'posthardcore', 'postrock', 'power', 'progmetal', 'progressive',\n",
       "       'psychedelic', 'punjabi', 'punk', 'quebecois', 'ragga', 'ram',\n",
       "       'rancheras', 'rap', 'rave', 'reggae', 'reggaeton', 'regional',\n",
       "       'relax', 'religious', 'retro', 'rhythm', 'rnb', 'rnr', 'rock',\n",
       "       'rockabilly', 'rockalternative', 'rockindie', 'rockother',\n",
       "       'romance', 'roots', 'ruspop', 'rusrap', 'rusrock', 'russian',\n",
       "       'salsa', 'samba', 'scenic', 'schlager', 'self', 'sertanejo',\n",
       "       'shanson', 'shoegazing', 'showtunes', 'singer', 'ska', 'skarock',\n",
       "       'slow', 'smooth', 'soft', 'soul', 'soulful', 'sound', 'soundtrack',\n",
       "       'southern', 'specialty', 'speech', 'spiritual', 'sport',\n",
       "       'stonerrock', 'surf', 'swing', 'synthpop', 'synthrock',\n",
       "       'sängerportrait', 'tango', 'tanzorchester', 'taraftar', 'tatar',\n",
       "       'tech', 'techno', 'teen', 'thrash', 'top', 'traditional',\n",
       "       'tradjazz', 'trance', 'tribal', 'trip', 'triphop', 'tropical',\n",
       "       'türk', 'türkçe', 'ukrrock', 'unknown', 'urban', 'uzbek',\n",
       "       'variété', 'vi', 'videogame', 'vocal', 'western', 'world',\n",
       "       'worldbeat', 'ïîï', 'электроника'], dtype=object)"
      ]
     },
     "execution_count": 14,
     "metadata": {},
     "output_type": "execute_result"
    }
   ],
   "source": [
    "df = df.sort_values(by='genre')\n",
    "df['genre'].sort_values().unique()\n",
    "# Просмотр уникальных названий жанров"
   ]
  },
  {
   "cell_type": "markdown",
   "metadata": {},
   "source": [
    "<div class=\"alert alert-warning\">\n",
    "<b>⚠️ Комментарий ревьюера:</b> \n",
    "<br>Ошибки в твоём решении нет, но для вывода будет достаточно строчки \n",
    "\n",
    "\tdf['genre'].sort_values().unique()\n",
    "</div>\n",
    "<div class=\"alert alert-info\">\n",
    "<b>Комментарий студента:</b>\n",
    "<br>убрала display\n",
    "</div>"
   ]
  },
  {
   "cell_type": "markdown",
   "metadata": {
    "id": "qej-Qmuo_Zct"
   },
   "source": [
    "Просмотрите список и найдите неявные дубликаты названия `hiphop`. Это могут быть названия с ошибками или альтернативные названия того же жанра.\n",
    "\n",
    "Вы увидите следующие неявные дубликаты:\n",
    "* *hip*,\n",
    "* *hop*,\n",
    "* *hip-hop*.\n",
    "\n",
    "Чтобы очистить от них таблицу, напишите функцию `replace_wrong_genres()` с двумя параметрами: \n",
    "* `wrong_genres` — список дубликатов,\n",
    "* `correct_genre` — строка с правильным значением.\n",
    "\n",
    "Функция должна исправить колонку `genre` в таблице `df`: заменить каждое значение из списка `wrong_genres` на значение из `correct_genre`."
   ]
  },
  {
   "cell_type": "code",
   "execution_count": 15,
   "metadata": {
    "id": "ErNDkmns_Zct"
   },
   "outputs": [],
   "source": [
    "def replace_wrong_genres(wrong_genres, correct_genre):\n",
    "    for wrong_genre in wrong_genres:\n",
    "        df['genre'] = df['genre'].replace(wrong_genres, correct_genre)\n",
    "# Функция для замены неявных дубликатов"
   ]
  },
  {
   "cell_type": "markdown",
   "metadata": {
    "id": "aDoBJxbA_Zct"
   },
   "source": [
    "Вызовите `replace_wrong_genres()` и передайте ей такие аргументы, чтобы она устранила неявные дубликаты: вместо `hip`, `hop` и `hip-hop` в таблице должно быть значение `hiphop`:"
   ]
  },
  {
   "cell_type": "code",
   "execution_count": 16,
   "metadata": {
    "id": "YN5i2hpmSo09"
   },
   "outputs": [],
   "source": [
    "replace_wrong_genres(['hip', 'hop', 'hip-hop'], 'hiphop')\n",
    "# Устранение неявных дубликатов"
   ]
  },
  {
   "cell_type": "markdown",
   "metadata": {},
   "source": [
    "<div class=\"alert alert-warning\">\n",
    "<b>⚠️ Комментарий ревьюера:</b> \n",
    "<br>Здесь можно заменить дубликаты не создавая дополнительные переменные:\n",
    "    \n",
    "    replace_wrong_genres(['hip', 'hop', 'hip-hop'], 'hiphop')\n",
    "</div>\n",
    "<div class=\"alert alert-info\">\n",
    "<b>Комментарий студента:</b>\n",
    "<br>заменила\n",
    "</div>"
   ]
  },
  {
   "cell_type": "markdown",
   "metadata": {
    "id": "zQKF16_RG15m"
   },
   "source": [
    "Проверьте, что заменили неправильные названия:\n",
    "\n",
    "*   hip\n",
    "*   hop\n",
    "*   hip-hop\n",
    "\n",
    "Выведите отсортированный список уникальных значений столбца `genre`:"
   ]
  },
  {
   "cell_type": "code",
   "execution_count": 17,
   "metadata": {
    "id": "wvixALnFG15m"
   },
   "outputs": [
    {
     "data": {
      "text/plain": [
       "array(['acid', 'acoustic', 'action', 'adult', 'africa', 'afrikaans',\n",
       "       'alternative', 'alternativepunk', 'ambient', 'americana',\n",
       "       'animated', 'anime', 'arabesk', 'arabic', 'arena',\n",
       "       'argentinetango', 'art', 'audiobook', 'author', 'avantgarde',\n",
       "       'axé', 'baile', 'balkan', 'beats', 'bigroom', 'black', 'bluegrass',\n",
       "       'blues', 'bollywood', 'bossa', 'brazilian', 'breakbeat', 'breaks',\n",
       "       'broadway', 'cantautori', 'cantopop', 'canzone', 'caribbean',\n",
       "       'caucasian', 'celtic', 'chamber', 'chanson', 'children', 'chill',\n",
       "       'chinese', 'choral', 'christian', 'christmas', 'classical',\n",
       "       'classicmetal', 'club', 'colombian', 'comedy', 'conjazz',\n",
       "       'contemporary', 'country', 'cuban', 'dance', 'dancehall',\n",
       "       'dancepop', 'dark', 'death', 'deep', 'deutschrock', 'deutschspr',\n",
       "       'dirty', 'disco', 'dnb', 'documentary', 'downbeat', 'downtempo',\n",
       "       'drum', 'dub', 'dubstep', 'eastern', 'easy', 'electronic',\n",
       "       'electropop', 'emo', 'entehno', 'epicmetal', 'estrada', 'ethnic',\n",
       "       'eurofolk', 'european', 'experimental', 'extrememetal', 'fado',\n",
       "       'fairytail', 'film', 'fitness', 'flamenco', 'folk', 'folklore',\n",
       "       'folkmetal', 'folkrock', 'folktronica', 'forró', 'frankreich',\n",
       "       'französisch', 'french', 'funk', 'future', 'gangsta', 'garage',\n",
       "       'german', 'ghazal', 'gitarre', 'glitch', 'gospel', 'gothic',\n",
       "       'grime', 'grunge', 'gypsy', 'handsup', \"hard'n'heavy\", 'hardcore',\n",
       "       'hardstyle', 'hardtechno', 'hiphop', 'historisch', 'holiday',\n",
       "       'horror', 'house', 'hymn', 'idm', 'independent', 'indian', 'indie',\n",
       "       'indipop', 'industrial', 'inspirational', 'instrumental',\n",
       "       'international', 'irish', 'jam', 'japanese', 'jazz', 'jewish',\n",
       "       'jpop', 'jungle', 'k-pop', 'karadeniz', 'karaoke', 'kayokyoku',\n",
       "       'korean', 'laiko', 'latin', 'latino', 'leftfield', 'local',\n",
       "       'lounge', 'loungeelectronic', 'lovers', 'malaysian', 'mandopop',\n",
       "       'marschmusik', 'meditative', 'mediterranean', 'melodic', 'metal',\n",
       "       'metalcore', 'mexican', 'middle', 'minimal', 'miscellaneous',\n",
       "       'modern', 'mood', 'mpb', 'muslim', 'native', 'neoklassik', 'neue',\n",
       "       'new', 'newage', 'newwave', 'nu', 'nujazz', 'numetal', 'oceania',\n",
       "       'old', 'opera', 'orchestral', 'other', 'piano', 'podcasts', 'pop',\n",
       "       'popdance', 'popelectronic', 'popeurodance', 'poprussian', 'post',\n",
       "       'posthardcore', 'postrock', 'power', 'progmetal', 'progressive',\n",
       "       'psychedelic', 'punjabi', 'punk', 'quebecois', 'ragga', 'ram',\n",
       "       'rancheras', 'rap', 'rave', 'reggae', 'reggaeton', 'regional',\n",
       "       'relax', 'religious', 'retro', 'rhythm', 'rnb', 'rnr', 'rock',\n",
       "       'rockabilly', 'rockalternative', 'rockindie', 'rockother',\n",
       "       'romance', 'roots', 'ruspop', 'rusrap', 'rusrock', 'russian',\n",
       "       'salsa', 'samba', 'scenic', 'schlager', 'self', 'sertanejo',\n",
       "       'shanson', 'shoegazing', 'showtunes', 'singer', 'ska', 'skarock',\n",
       "       'slow', 'smooth', 'soft', 'soul', 'soulful', 'sound', 'soundtrack',\n",
       "       'southern', 'specialty', 'speech', 'spiritual', 'sport',\n",
       "       'stonerrock', 'surf', 'swing', 'synthpop', 'synthrock',\n",
       "       'sängerportrait', 'tango', 'tanzorchester', 'taraftar', 'tatar',\n",
       "       'tech', 'techno', 'teen', 'thrash', 'top', 'traditional',\n",
       "       'tradjazz', 'trance', 'tribal', 'trip', 'triphop', 'tropical',\n",
       "       'türk', 'türkçe', 'ukrrock', 'unknown', 'urban', 'uzbek',\n",
       "       'variété', 'vi', 'videogame', 'vocal', 'western', 'world',\n",
       "       'worldbeat', 'ïîï', 'электроника'], dtype=object)"
      ]
     },
     "metadata": {},
     "output_type": "display_data"
    }
   ],
   "source": [
    "display(df['genre'].sort_values().unique())\n",
    "# Проверка на неявные дубликаты"
   ]
  },
  {
   "cell_type": "markdown",
   "metadata": {},
   "source": [
    "<div class=\"alert alert-danger\">\n",
    "<b>❌ Комментарий ревьюера:</b> \n",
    "<br>Нужно добавить метод .sort_values() для сортировки значений, чтобы было удобнее искать\n",
    "</div>\n",
    "\n",
    "</div>\n",
    "<div class=\"alert alert-info\">\n",
    "<b>Комментарий студента:</b>\n",
    "<br>добавила\n",
    "</div>"
   ]
  },
  {
   "cell_type": "markdown",
   "metadata": {},
   "source": [
    "<div class=\"alert alert-success\">\n",
    "<b>✔️ Комментарий ревьюера v2:</b>\n",
    "<br>👍\n",
    "</div>"
   ]
  },
  {
   "cell_type": "markdown",
   "metadata": {
    "id": "jz6a9-7HQUDd"
   },
   "source": [
    "**Выводы**\n",
    "\n",
    "Предобработка обнаружила три проблемы в данных:\n",
    "\n",
    "- нарушения в стиле заголовков,\n",
    "- пропущенные значения,\n",
    "- дубликаты — явные и неявные.\n",
    "\n",
    "Вы исправили заголовки, чтобы упростить работу с таблицей. Без дубликатов исследование станет более точным.\n",
    "\n",
    "Пропущенные значения вы заменили на `'unknown'`. Ещё предстоит увидеть, не повредят ли исследованию пропуски в колонке `genre`.\n",
    "\n",
    "Теперь можно перейти к проверке гипотез. "
   ]
  },
  {
   "cell_type": "markdown",
   "metadata": {
    "id": "WttZHXH0SqKk"
   },
   "source": [
    "## Проверка гипотез"
   ]
  },
  {
   "cell_type": "markdown",
   "metadata": {
    "id": "Im936VVi_Zcu"
   },
   "source": [
    "### Сравнение поведения пользователей двух столиц"
   ]
  },
  {
   "cell_type": "markdown",
   "metadata": {
    "id": "nwt_MuaL_Zcu"
   },
   "source": [
    "Первая гипотеза утверждает, что пользователи по-разному слушают музыку в Москве и Санкт-Петербурге. Проверьте это предположение по данным о трёх днях недели — понедельнике, среде и пятнице. Для этого:\n",
    "\n",
    "* Разделите пользователей Москвы и Санкт-Петербурга\n",
    "* Сравните, сколько треков послушала каждая группа пользователей в понедельник, среду и пятницу.\n"
   ]
  },
  {
   "cell_type": "markdown",
   "metadata": {
    "id": "8Dw_YMmT_Zcu"
   },
   "source": [
    "Для тренировки сначала выполните каждый из расчётов по отдельности. \n",
    "\n",
    "Оцените активность пользователей в каждом городе. Сгруппируйте данные по городу и посчитайте прослушивания в каждой группе.\n",
    "\n"
   ]
  },
  {
   "cell_type": "code",
   "execution_count": 18,
   "metadata": {
    "id": "0_Qs96oh_Zcu"
   },
   "outputs": [
    {
     "data": {
      "text/plain": [
       "city\n",
       "Moscow              42741\n",
       "Saint-Petersburg    18512\n",
       "Name: artist, dtype: int64"
      ]
     },
     "execution_count": 18,
     "metadata": {},
     "output_type": "execute_result"
    }
   ],
   "source": [
    "df.groupby('city')['artist'].count()\n",
    "# Подсчёт прослушиваний в каждом городе"
   ]
  },
  {
   "cell_type": "markdown",
   "metadata": {
    "id": "dzli3w8o_Zcu"
   },
   "source": [
    "В Москве прослушиваний больше, чем в Петербурге. Из этого не следует, что московские пользователи чаще слушают музыку. Просто самих пользователей в Москве больше.\n",
    "\n",
    "Теперь сгруппируйте данные по дню недели и подсчитайте прослушивания в понедельник, среду и пятницу. Учтите, что в данных есть информация только о прослушиваниях только за эти дни.\n"
   ]
  },
  {
   "cell_type": "code",
   "execution_count": 19,
   "metadata": {
    "id": "uZMKjiJz_Zcu"
   },
   "outputs": [
    {
     "data": {
      "text/plain": [
       "day\n",
       "Friday       21840\n",
       "Monday       21354\n",
       "Wednesday    18059\n",
       "Name: city, dtype: int64"
      ]
     },
     "execution_count": 19,
     "metadata": {},
     "output_type": "execute_result"
    }
   ],
   "source": [
    "df.groupby('day')['city'].count()\n",
    "# Подсчёт прослушиваний в каждый из трёх дней"
   ]
  },
  {
   "cell_type": "markdown",
   "metadata": {},
   "source": [
    "<div class=\"alert alert-danger\">\n",
    "<b>❌ Комментарий ревьюера:</b> \n",
    "<br>Ты сгруппировала данные по городу и дню, теперь остаётся выбрать любой столбец для каждой таблицы, чтобы вывод был аккуратным)\n",
    "</div>\n",
    "<div class=\"alert alert-info\">\n",
    "<b>Комментарий студента:</b>\n",
    "<br>добавила столбец\n",
    "</div>"
   ]
  },
  {
   "cell_type": "markdown",
   "metadata": {},
   "source": [
    "<div class=\"alert alert-success\">\n",
    "<b>✔️ Комментарий ревьюера v2:</b>\n",
    "<br>Отлично! Теперь всё верно)\n",
    "</div>"
   ]
  },
  {
   "cell_type": "markdown",
   "metadata": {
    "id": "cC2tNrlL_Zcu"
   },
   "source": [
    "В среднем пользователи из двух городов менее активны по средам. Но картина может измениться, если рассмотреть каждый город в отдельности."
   ]
  },
  {
   "cell_type": "markdown",
   "metadata": {
    "id": "POzs8bGa_Zcu"
   },
   "source": [
    "Вы видели, как работает группировка по городу и по дням недели. Теперь напишите функцию, которая объединит два эти расчёта.\n",
    "\n",
    "Создайте функцию `number_tracks()`, которая посчитает прослушивания для заданного дня и города. Ей понадобятся два параметра:\n",
    "* день недели,\n",
    "* название города.\n",
    "\n",
    "В функции сохраните в переменную строки исходной таблицы, у которых значение:\n",
    "  * в колонке `day` равно параметру `day`,\n",
    "  * в колонке `city` равно параметру `city`.\n",
    "\n",
    "Для этого примените последовательную фильтрацию с логической индексацией.\n",
    "\n",
    "Затем посчитайте значения в столбце `user_id` получившейся таблицы. Результат сохраните в новую переменную. Верните эту переменную из функции."
   ]
  },
  {
   "cell_type": "code",
   "execution_count": 20,
   "metadata": {
    "id": "Nz3GdQB1_Zcu"
   },
   "outputs": [],
   "source": [
    "def  number_tracks(day, city):\n",
    "    track_list = df[df['day'] == day]\n",
    "    track_list = track_list[track_list['city'] == city]\n",
    "    track_list_count = track_list['user_id'].count()\n",
    "    return track_list_count\n",
    "\n",
    "# Функция для подсчёта прослушиваний для конкретного города и дня.\n",
    "# С помощью последовательной фильтрации с логической индексацией она \n",
    "# сначала получит из исходной таблицы строки с нужным днём,\n",
    "# затем из результата отфильтрует строки с нужным городом,\n",
    "# методом count() посчитает количество значений в колонке user_id. \n",
    "# Это количество функция вернёт в качестве результата"
   ]
  },
  {
   "cell_type": "markdown",
   "metadata": {
    "id": "ytf7xFrFJQ2r"
   },
   "source": [
    "Вызовите `number_tracks()` шесть раз, меняя значение параметров — так, чтобы получить данные для каждого города в каждый из трёх дней."
   ]
  },
  {
   "cell_type": "code",
   "execution_count": 21,
   "metadata": {
    "id": "rJcRATNQ_Zcu"
   },
   "outputs": [
    {
     "data": {
      "text/plain": [
       "15740"
      ]
     },
     "execution_count": 21,
     "metadata": {},
     "output_type": "execute_result"
    }
   ],
   "source": [
    "number_tracks('Monday', 'Moscow')\n",
    "# количество прослушиваний в Москве по понедельникам"
   ]
  },
  {
   "cell_type": "code",
   "execution_count": 22,
   "metadata": {
    "id": "hq_ncZ5T_Zcu"
   },
   "outputs": [
    {
     "data": {
      "text/plain": [
       "5614"
      ]
     },
     "execution_count": 22,
     "metadata": {},
     "output_type": "execute_result"
    }
   ],
   "source": [
    "number_tracks('Monday', 'Saint-Petersburg')\n",
    "# количество прослушиваний в Санкт-Петербурге по понедельникам"
   ]
  },
  {
   "cell_type": "code",
   "execution_count": 23,
   "metadata": {
    "id": "_NTy2VPU_Zcu"
   },
   "outputs": [
    {
     "data": {
      "text/plain": [
       "11056"
      ]
     },
     "execution_count": 23,
     "metadata": {},
     "output_type": "execute_result"
    }
   ],
   "source": [
    "number_tracks('Wednesday', 'Moscow')\n",
    "# количество прослушиваний в Москве по средам"
   ]
  },
  {
   "cell_type": "code",
   "execution_count": 24,
   "metadata": {
    "id": "j2y3TAwo_Zcu"
   },
   "outputs": [
    {
     "data": {
      "text/plain": [
       "7003"
      ]
     },
     "execution_count": 24,
     "metadata": {},
     "output_type": "execute_result"
    }
   ],
   "source": [
    "number_tracks('Wednesday', 'Saint-Petersburg')\n",
    "# количество прослушиваний в Санкт-Петербурге по средам"
   ]
  },
  {
   "cell_type": "code",
   "execution_count": 25,
   "metadata": {
    "id": "vYDw5u_K_Zcu"
   },
   "outputs": [
    {
     "data": {
      "text/plain": [
       "15945"
      ]
     },
     "execution_count": 25,
     "metadata": {},
     "output_type": "execute_result"
    }
   ],
   "source": [
    "number_tracks('Friday', 'Moscow')\n",
    "# количество прослушиваний в Москве по пятницам"
   ]
  },
  {
   "cell_type": "code",
   "execution_count": 26,
   "metadata": {
    "id": "8_yzFtW3_Zcu"
   },
   "outputs": [
    {
     "data": {
      "text/plain": [
       "5895"
      ]
     },
     "execution_count": 26,
     "metadata": {},
     "output_type": "execute_result"
    }
   ],
   "source": [
    "number_tracks('Friday', 'Saint-Petersburg')\n",
    "# количество прослушиваний в Санкт-Петербурге по пятницам"
   ]
  },
  {
   "cell_type": "markdown",
   "metadata": {
    "id": "7QXffbO-_Zcu"
   },
   "source": [
    "Создайте c помощью конструктора `pd.DataFrame` таблицу, где\n",
    "* названия колонок — `['city', 'monday', 'wednesday', 'friday']`;\n",
    "* данные — результаты, которые вы получили с помощью `number_tracks`."
   ]
  },
  {
   "cell_type": "code",
   "execution_count": 27,
   "metadata": {
    "id": "APAcLpOr_Zcu"
   },
   "outputs": [
    {
     "data": {
      "text/html": [
       "<div>\n",
       "<style scoped>\n",
       "    .dataframe tbody tr th:only-of-type {\n",
       "        vertical-align: middle;\n",
       "    }\n",
       "\n",
       "    .dataframe tbody tr th {\n",
       "        vertical-align: top;\n",
       "    }\n",
       "\n",
       "    .dataframe thead th {\n",
       "        text-align: right;\n",
       "    }\n",
       "</style>\n",
       "<table border=\"1\" class=\"dataframe\">\n",
       "  <thead>\n",
       "    <tr style=\"text-align: right;\">\n",
       "      <th></th>\n",
       "      <th>city</th>\n",
       "      <th>monday</th>\n",
       "      <th>wednesday</th>\n",
       "      <th>friday</th>\n",
       "    </tr>\n",
       "  </thead>\n",
       "  <tbody>\n",
       "    <tr>\n",
       "      <td>0</td>\n",
       "      <td>Moscow</td>\n",
       "      <td>15740</td>\n",
       "      <td>11056</td>\n",
       "      <td>15945</td>\n",
       "    </tr>\n",
       "    <tr>\n",
       "      <td>1</td>\n",
       "      <td>Saint-Petersburg</td>\n",
       "      <td>5614</td>\n",
       "      <td>7003</td>\n",
       "      <td>5895</td>\n",
       "    </tr>\n",
       "  </tbody>\n",
       "</table>\n",
       "</div>"
      ],
      "text/plain": [
       "               city  monday  wednesday  friday\n",
       "0            Moscow   15740      11056   15945\n",
       "1  Saint-Petersburg    5614       7003    5895"
      ]
     },
     "execution_count": 27,
     "metadata": {},
     "output_type": "execute_result"
    }
   ],
   "source": [
    "data = [['Moscow', 15740, 11056, 15945],\n",
    "        ['Saint-Petersburg', 5614, 7003, 5895]]\n",
    "columns = ['city', 'monday', 'wednesday', 'friday']\n",
    "pd.DataFrame(data=data, columns=columns)\n",
    "# Таблица с результатами"
   ]
  },
  {
   "cell_type": "markdown",
   "metadata": {},
   "source": [
    "<div class=\"alert alert-success\">\n",
    "<b>✔️ Комментарий ревьюера:</b> \n",
    "<br>Датафрейм построен верно. Молодец!\n",
    "</div>\n",
    "\n",
    "<div class=\"alert alert-warning\">\n",
    "<b>⚠️ Комментарий ревьюера:</b> \n",
    "<br>Альтернативное решение:\n",
    "    \n",
    "    info = pd.DataFrame(data=[['Москва', 15740, 11056, 15945], ['Санкт-Петербург', 5614, 7003, 5895]], columns=['city', 'monday', 'wednesday', 'friday'])\n",
    "</div>"
   ]
  },
  {
   "cell_type": "markdown",
   "metadata": {
    "id": "-EgPIHYu_Zcu"
   },
   "source": [
    "**Выводы**\n",
    "\n",
    "Данные показывают разницу поведения пользователей:\n",
    "\n",
    "- В Москве пик прослушиваний приходится на понедельник и пятницу, а в среду заметен спад.\n",
    "- В Петербурге, наоборот, больше слушают музыку по средам. Активность в понедельник и пятницу здесь почти в равной мере уступает среде.\n",
    "\n",
    "Значит, данные говорят в пользу первой гипотезы."
   ]
  },
  {
   "cell_type": "markdown",
   "metadata": {
    "id": "atZAxtq4_Zcu"
   },
   "source": [
    "### Музыка в начале и в конце недели"
   ]
  },
  {
   "cell_type": "markdown",
   "metadata": {
    "id": "eXrQqXFH_Zcu"
   },
   "source": [
    "Согласно второй гипотезе, утром в понедельник в Москве преобладают одни жанры, а в Петербурге — другие. Так же и вечером пятницы преобладают разные жанры — в зависимости от города."
   ]
  },
  {
   "cell_type": "markdown",
   "metadata": {
    "id": "S8UcW6Hw_Zcu"
   },
   "source": [
    "Сохраните таблицы с данными в две переменные:\n",
    "* по Москве — в `moscow_general`;\n",
    "* по Санкт-Петербургу — в `spb_general`."
   ]
  },
  {
   "cell_type": "code",
   "execution_count": 28,
   "metadata": {
    "id": "qeaFfM_P_Zcu"
   },
   "outputs": [
    {
     "data": {
      "text/html": [
       "<div>\n",
       "<style scoped>\n",
       "    .dataframe tbody tr th:only-of-type {\n",
       "        vertical-align: middle;\n",
       "    }\n",
       "\n",
       "    .dataframe tbody tr th {\n",
       "        vertical-align: top;\n",
       "    }\n",
       "\n",
       "    .dataframe thead th {\n",
       "        text-align: right;\n",
       "    }\n",
       "</style>\n",
       "<table border=\"1\" class=\"dataframe\">\n",
       "  <thead>\n",
       "    <tr style=\"text-align: right;\">\n",
       "      <th></th>\n",
       "      <th>user_id</th>\n",
       "      <th>track</th>\n",
       "      <th>artist</th>\n",
       "      <th>genre</th>\n",
       "      <th>city</th>\n",
       "      <th>time</th>\n",
       "      <th>day</th>\n",
       "    </tr>\n",
       "  </thead>\n",
       "  <tbody>\n",
       "    <tr>\n",
       "      <td>31916</td>\n",
       "      <td>C40BC5DF</td>\n",
       "      <td>Shot in the Dark</td>\n",
       "      <td>Four80East</td>\n",
       "      <td>acid</td>\n",
       "      <td>Moscow</td>\n",
       "      <td>09:44:12</td>\n",
       "      <td>Friday</td>\n",
       "    </tr>\n",
       "    <tr>\n",
       "      <td>57580</td>\n",
       "      <td>23C64044</td>\n",
       "      <td>Don't Stop Me Now</td>\n",
       "      <td>Acoustic Heartstrings</td>\n",
       "      <td>acoustic</td>\n",
       "      <td>Moscow</td>\n",
       "      <td>13:30:01</td>\n",
       "      <td>Wednesday</td>\n",
       "    </tr>\n",
       "    <tr>\n",
       "      <td>20264</td>\n",
       "      <td>B02ED3AB</td>\n",
       "      <td>Ой да</td>\n",
       "      <td>unknown</td>\n",
       "      <td>acoustic</td>\n",
       "      <td>Moscow</td>\n",
       "      <td>13:31:03</td>\n",
       "      <td>Wednesday</td>\n",
       "    </tr>\n",
       "    <tr>\n",
       "      <td>37784</td>\n",
       "      <td>77D3A7D9</td>\n",
       "      <td>Ой да</td>\n",
       "      <td>unknown</td>\n",
       "      <td>acoustic</td>\n",
       "      <td>Moscow</td>\n",
       "      <td>14:27:34</td>\n",
       "      <td>Monday</td>\n",
       "    </tr>\n",
       "    <tr>\n",
       "      <td>26378</td>\n",
       "      <td>4D96EB78</td>\n",
       "      <td>Eventuality</td>\n",
       "      <td>Jack Trammell</td>\n",
       "      <td>action</td>\n",
       "      <td>Moscow</td>\n",
       "      <td>21:22:51</td>\n",
       "      <td>Monday</td>\n",
       "    </tr>\n",
       "    <tr>\n",
       "      <td>...</td>\n",
       "      <td>...</td>\n",
       "      <td>...</td>\n",
       "      <td>...</td>\n",
       "      <td>...</td>\n",
       "      <td>...</td>\n",
       "      <td>...</td>\n",
       "      <td>...</td>\n",
       "    </tr>\n",
       "    <tr>\n",
       "      <td>22265</td>\n",
       "      <td>9E13CAB3</td>\n",
       "      <td>Caravana</td>\n",
       "      <td>Orchestra Baobab</td>\n",
       "      <td>world</td>\n",
       "      <td>Moscow</td>\n",
       "      <td>08:47:38</td>\n",
       "      <td>Friday</td>\n",
       "    </tr>\n",
       "    <tr>\n",
       "      <td>7581</td>\n",
       "      <td>E9537159</td>\n",
       "      <td>Back To Black</td>\n",
       "      <td>Simone Mazzer</td>\n",
       "      <td>world</td>\n",
       "      <td>Moscow</td>\n",
       "      <td>20:24:22</td>\n",
       "      <td>Wednesday</td>\n",
       "    </tr>\n",
       "    <tr>\n",
       "      <td>41879</td>\n",
       "      <td>613C79DF</td>\n",
       "      <td>Rani Mrid</td>\n",
       "      <td>Nemri</td>\n",
       "      <td>world</td>\n",
       "      <td>Moscow</td>\n",
       "      <td>21:59:01</td>\n",
       "      <td>Monday</td>\n",
       "    </tr>\n",
       "    <tr>\n",
       "      <td>27939</td>\n",
       "      <td>D7FB50DA</td>\n",
       "      <td>Drumming Circle</td>\n",
       "      <td>Professor Trance</td>\n",
       "      <td>worldbeat</td>\n",
       "      <td>Moscow</td>\n",
       "      <td>09:30:47</td>\n",
       "      <td>Monday</td>\n",
       "    </tr>\n",
       "    <tr>\n",
       "      <td>8448</td>\n",
       "      <td>A439123F</td>\n",
       "      <td>Flip It</td>\n",
       "      <td>unknown</td>\n",
       "      <td>ïîï</td>\n",
       "      <td>Moscow</td>\n",
       "      <td>09:08:51</td>\n",
       "      <td>Friday</td>\n",
       "    </tr>\n",
       "  </tbody>\n",
       "</table>\n",
       "<p>42741 rows × 7 columns</p>\n",
       "</div>"
      ],
      "text/plain": [
       "        user_id              track                 artist      genre    city  \\\n",
       "31916  C40BC5DF   Shot in the Dark             Four80East       acid  Moscow   \n",
       "57580  23C64044  Don't Stop Me Now  Acoustic Heartstrings   acoustic  Moscow   \n",
       "20264  B02ED3AB              Ой да                unknown   acoustic  Moscow   \n",
       "37784  77D3A7D9              Ой да                unknown   acoustic  Moscow   \n",
       "26378  4D96EB78        Eventuality          Jack Trammell     action  Moscow   \n",
       "...         ...                ...                    ...        ...     ...   \n",
       "22265  9E13CAB3           Caravana       Orchestra Baobab      world  Moscow   \n",
       "7581   E9537159      Back To Black          Simone Mazzer      world  Moscow   \n",
       "41879  613C79DF          Rani Mrid                  Nemri      world  Moscow   \n",
       "27939  D7FB50DA    Drumming Circle       Professor Trance  worldbeat  Moscow   \n",
       "8448   A439123F            Flip It                unknown        ïîï  Moscow   \n",
       "\n",
       "           time        day  \n",
       "31916  09:44:12     Friday  \n",
       "57580  13:30:01  Wednesday  \n",
       "20264  13:31:03  Wednesday  \n",
       "37784  14:27:34     Monday  \n",
       "26378  21:22:51     Monday  \n",
       "...         ...        ...  \n",
       "22265  08:47:38     Friday  \n",
       "7581   20:24:22  Wednesday  \n",
       "41879  21:59:01     Monday  \n",
       "27939  09:30:47     Monday  \n",
       "8448   09:08:51     Friday  \n",
       "\n",
       "[42741 rows x 7 columns]"
      ]
     },
     "metadata": {},
     "output_type": "display_data"
    }
   ],
   "source": [
    "moscow_general = df[df['city'] == 'Moscow']\n",
    "display(moscow_general)\n",
    "# получение таблицы moscow_general из тех строк таблицы df, \n",
    "# для которых значение в столбце 'city' равно 'Moscow'\n"
   ]
  },
  {
   "cell_type": "code",
   "execution_count": 29,
   "metadata": {
    "id": "ORaVRKto_Zcu"
   },
   "outputs": [
    {
     "data": {
      "text/html": [
       "<div>\n",
       "<style scoped>\n",
       "    .dataframe tbody tr th:only-of-type {\n",
       "        vertical-align: middle;\n",
       "    }\n",
       "\n",
       "    .dataframe tbody tr th {\n",
       "        vertical-align: top;\n",
       "    }\n",
       "\n",
       "    .dataframe thead th {\n",
       "        text-align: right;\n",
       "    }\n",
       "</style>\n",
       "<table border=\"1\" class=\"dataframe\">\n",
       "  <thead>\n",
       "    <tr style=\"text-align: right;\">\n",
       "      <th></th>\n",
       "      <th>user_id</th>\n",
       "      <th>track</th>\n",
       "      <th>artist</th>\n",
       "      <th>genre</th>\n",
       "      <th>city</th>\n",
       "      <th>time</th>\n",
       "      <th>day</th>\n",
       "    </tr>\n",
       "  </thead>\n",
       "  <tbody>\n",
       "    <tr>\n",
       "      <td>3636</td>\n",
       "      <td>F10919ED</td>\n",
       "      <td>Ready For The Fire</td>\n",
       "      <td>Valley Of Wolves</td>\n",
       "      <td>acoustic</td>\n",
       "      <td>Saint-Petersburg</td>\n",
       "      <td>21:33:18</td>\n",
       "      <td>Monday</td>\n",
       "    </tr>\n",
       "    <tr>\n",
       "      <td>14611</td>\n",
       "      <td>1C7D9E90</td>\n",
       "      <td>Prelude – Ne Me Qui Te Pas</td>\n",
       "      <td>unknown</td>\n",
       "      <td>acoustic</td>\n",
       "      <td>Saint-Petersburg</td>\n",
       "      <td>21:47:42</td>\n",
       "      <td>Friday</td>\n",
       "    </tr>\n",
       "    <tr>\n",
       "      <td>9393</td>\n",
       "      <td>B24158ED</td>\n",
       "      <td>Cellophane</td>\n",
       "      <td>Sara Jackson-Holman</td>\n",
       "      <td>adult</td>\n",
       "      <td>Saint-Petersburg</td>\n",
       "      <td>14:18:42</td>\n",
       "      <td>Monday</td>\n",
       "    </tr>\n",
       "    <tr>\n",
       "      <td>13408</td>\n",
       "      <td>BF3BEA4</td>\n",
       "      <td>Sweet Love</td>\n",
       "      <td>Anita Baker</td>\n",
       "      <td>adult</td>\n",
       "      <td>Saint-Petersburg</td>\n",
       "      <td>14:56:07</td>\n",
       "      <td>Monday</td>\n",
       "    </tr>\n",
       "    <tr>\n",
       "      <td>34021</td>\n",
       "      <td>4DCD818F</td>\n",
       "      <td>Blue Skies Again</td>\n",
       "      <td>Jessica Lea Mayfield</td>\n",
       "      <td>adult</td>\n",
       "      <td>Saint-Petersburg</td>\n",
       "      <td>09:05:48</td>\n",
       "      <td>Wednesday</td>\n",
       "    </tr>\n",
       "    <tr>\n",
       "      <td>...</td>\n",
       "      <td>...</td>\n",
       "      <td>...</td>\n",
       "      <td>...</td>\n",
       "      <td>...</td>\n",
       "      <td>...</td>\n",
       "      <td>...</td>\n",
       "      <td>...</td>\n",
       "    </tr>\n",
       "    <tr>\n",
       "      <td>33671</td>\n",
       "      <td>CB06B200</td>\n",
       "      <td>Sapashini</td>\n",
       "      <td>Stonebwoy</td>\n",
       "      <td>world</td>\n",
       "      <td>Saint-Petersburg</td>\n",
       "      <td>21:50:13</td>\n",
       "      <td>Wednesday</td>\n",
       "    </tr>\n",
       "    <tr>\n",
       "      <td>7465</td>\n",
       "      <td>CCC16A51</td>\n",
       "      <td>Toccata Aal Lebnene Remix</td>\n",
       "      <td>Michel Fadel</td>\n",
       "      <td>world</td>\n",
       "      <td>Saint-Petersburg</td>\n",
       "      <td>21:30:41</td>\n",
       "      <td>Friday</td>\n",
       "    </tr>\n",
       "    <tr>\n",
       "      <td>7576</td>\n",
       "      <td>5E9261F4</td>\n",
       "      <td>Wah Yantee</td>\n",
       "      <td>Simrit</td>\n",
       "      <td>world</td>\n",
       "      <td>Saint-Petersburg</td>\n",
       "      <td>20:25:57</td>\n",
       "      <td>Wednesday</td>\n",
       "    </tr>\n",
       "    <tr>\n",
       "      <td>39063</td>\n",
       "      <td>AA1730E8</td>\n",
       "      <td>Anu</td>\n",
       "      <td>Kailash Kokopelli</td>\n",
       "      <td>worldbeat</td>\n",
       "      <td>Saint-Petersburg</td>\n",
       "      <td>20:16:34</td>\n",
       "      <td>Wednesday</td>\n",
       "    </tr>\n",
       "    <tr>\n",
       "      <td>6465</td>\n",
       "      <td>1D4661</td>\n",
       "      <td>Раз два три</td>\n",
       "      <td>Какао</td>\n",
       "      <td>электроника</td>\n",
       "      <td>Saint-Petersburg</td>\n",
       "      <td>08:54:15</td>\n",
       "      <td>Wednesday</td>\n",
       "    </tr>\n",
       "  </tbody>\n",
       "</table>\n",
       "<p>18512 rows × 7 columns</p>\n",
       "</div>"
      ],
      "text/plain": [
       "        user_id                       track                artist  \\\n",
       "3636   F10919ED          Ready For The Fire      Valley Of Wolves   \n",
       "14611  1C7D9E90  Prelude – Ne Me Qui Te Pas               unknown   \n",
       "9393   B24158ED                  Cellophane   Sara Jackson-Holman   \n",
       "13408   BF3BEA4                  Sweet Love           Anita Baker   \n",
       "34021  4DCD818F            Blue Skies Again  Jessica Lea Mayfield   \n",
       "...         ...                         ...                   ...   \n",
       "33671  CB06B200                   Sapashini             Stonebwoy   \n",
       "7465   CCC16A51   Toccata Aal Lebnene Remix         Michel Fadel    \n",
       "7576   5E9261F4                  Wah Yantee                Simrit   \n",
       "39063  AA1730E8                         Anu     Kailash Kokopelli   \n",
       "6465     1D4661                 Раз два три                 Какао   \n",
       "\n",
       "             genre              city      time        day  \n",
       "3636      acoustic  Saint-Petersburg  21:33:18     Monday  \n",
       "14611     acoustic  Saint-Petersburg  21:47:42     Friday  \n",
       "9393         adult  Saint-Petersburg  14:18:42     Monday  \n",
       "13408        adult  Saint-Petersburg  14:56:07     Monday  \n",
       "34021        adult  Saint-Petersburg  09:05:48  Wednesday  \n",
       "...            ...               ...       ...        ...  \n",
       "33671        world  Saint-Petersburg  21:50:13  Wednesday  \n",
       "7465         world  Saint-Petersburg  21:30:41     Friday  \n",
       "7576         world  Saint-Petersburg  20:25:57  Wednesday  \n",
       "39063    worldbeat  Saint-Petersburg  20:16:34  Wednesday  \n",
       "6465   электроника  Saint-Petersburg  08:54:15  Wednesday  \n",
       "\n",
       "[18512 rows x 7 columns]"
      ]
     },
     "metadata": {},
     "output_type": "display_data"
    }
   ],
   "source": [
    "spb_general = df[df['city'] == 'Saint-Petersburg']\n",
    "display(spb_general)\n",
    "# получение таблицы spb_general из тех строк таблицы df,\n",
    "# для которых значение в столбце 'city' равно 'Saint-Petersburg'\n"
   ]
  },
  {
   "cell_type": "markdown",
   "metadata": {
    "id": "MEJV-CX2_Zcu"
   },
   "source": [
    "Создайте функцию `genre_weekday()` с четырьмя параметрами:\n",
    "* таблица (датафрейм) с данными,\n",
    "* день недели,\n",
    "* начальная временная метка в формате 'hh:mm', \n",
    "* последняя временная метка в формате 'hh:mm'.\n",
    "\n",
    "Функция должна вернуть информацию о топ-10 жанров тех треков, которые прослушивали в указанный день, в промежутке между двумя отметками времени."
   ]
  },
  {
   "cell_type": "code",
   "execution_count": 30,
   "metadata": {
    "id": "laJT9BYl_Zcu"
   },
   "outputs": [],
   "source": [
    "def genre_weekday(table, day, time1, time2):\n",
    "    genre_df = table[table['day'] == day]\n",
    "    genre_df = genre_df[genre_df['time'] > time1]\n",
    "    genre_df = genre_df[genre_df['time'] < time2]\n",
    "    genre_df_count = genre_df.groupby('genre')['artist'].count()\n",
    "    genre_df_sorted = genre_df_count.sort_values(ascending=False)\n",
    "    return genre_df_sorted.head(10)\n",
    "    \n",
    "    \n",
    "# Объявление функции genre_weekday() с параметрами table, day, time1, time2,\n",
    "# которая возвращает информацию о самых популярных жанрах в указанный день в\n",
    "# заданное время:\n",
    "# 1) в переменную genre_df сохраняются те строки переданного датафрейма table, для\n",
    "#    которых одновременно:\n",
    "#    - значение в столбце day равно значению аргумента day\n",
    "#    - значение в столбце time больше значения аргумента time1\n",
    "#    - значение в столбце time меньше значения аргумента time2\n",
    "#    Используйте последовательную фильтрацию с помощью логической индексации.\n",
    "# 2) сгруппировать датафрейм genre_df по столбцу genre, взять один из его\n",
    "#    столбцов и посчитать методом count() количество записей для каждого из\n",
    "#    присутствующих жанров, получившийся Series записать в переменную\n",
    "#    genre_df_count\n",
    "# 3) отсортировать genre_df_count по убыванию встречаемости и сохранить\n",
    "#    в переменную genre_df_sorted\n",
    "# 4) вернуть Series из 10 первых значений genre_df_sorted, это будут топ-10\n",
    "#    популярных жанров (в указанный день, в заданное время)"
   ]
  },
  {
   "cell_type": "markdown",
   "metadata": {},
   "source": [
    "<div class=\"alert alert-success\">\n",
    "<b>✔️ Комментарий ревьюера: </b> \n",
    "<br>Замечательно! Здесь тоже все верно.\n",
    "</div>\n",
    "\n",
    "<div class=\"alert alert-warning\">\n",
    "<b>⚠️ Комментарий ревьюера:</b> \n",
    "<br>Как можно это сделать другим способом:\n",
    "<br>1. В одну строку: \n",
    "    \n",
    "    genre_df = table[(table['day'] == day) & (table['time'] > time1) & (table['time'] < time2)]\n",
    "<br>2. Через метод query(): \n",
    "\n",
    "    genre_df = table.query('@day==day and @time1 < time < @time2')\n",
    "<br>Метод query вы будете изучать в следующем спринте, а пока про него можно почитать в документации pandas:\n",
    "\n",
    "\thttps://pandas.pydata.org/docs/reference/api/pandas.DataFrame.query.html\n",
    "</div>"
   ]
  },
  {
   "cell_type": "markdown",
   "metadata": {
    "id": "la2s2_PF_Zcu"
   },
   "source": [
    "Cравните результаты функции `genre_weekday()` для Москвы и Санкт-Петербурга в понедельник утром (с 7:00 до 11:00) и в пятницу вечером (с 17:00 до 23:00):"
   ]
  },
  {
   "cell_type": "code",
   "execution_count": 31,
   "metadata": {
    "id": "yz7itPUQ_Zcu"
   },
   "outputs": [
    {
     "data": {
      "text/plain": [
       "genre\n",
       "pop            781\n",
       "dance          549\n",
       "electronic     480\n",
       "rock           474\n",
       "hiphop         286\n",
       "ruspop         186\n",
       "world          181\n",
       "rusrap         175\n",
       "alternative    164\n",
       "unknown        161\n",
       "Name: artist, dtype: int64"
      ]
     },
     "execution_count": 31,
     "metadata": {},
     "output_type": "execute_result"
    }
   ],
   "source": [
    "genre_weekday(moscow_general, 'Monday', '07:00', '11:00')\n",
    "# вызов функции для утра понедельника в Москве (вместо df — таблица moscow_general)\n"
   ]
  },
  {
   "cell_type": "code",
   "execution_count": 32,
   "metadata": {
    "id": "kwUcHPdy_Zcu"
   },
   "outputs": [
    {
     "data": {
      "text/plain": [
       "genre\n",
       "pop            218\n",
       "dance          182\n",
       "rock           162\n",
       "electronic     147\n",
       "hiphop          80\n",
       "ruspop          64\n",
       "alternative     58\n",
       "rusrap          55\n",
       "jazz            44\n",
       "classical       40\n",
       "Name: artist, dtype: int64"
      ]
     },
     "execution_count": 32,
     "metadata": {},
     "output_type": "execute_result"
    }
   ],
   "source": [
    "genre_weekday(spb_general, 'Monday', '07:00', '11:00')\n",
    "# вызов функции для утра понедельника в Петербурге (вместо df — таблица spb_general)"
   ]
  },
  {
   "cell_type": "code",
   "execution_count": 33,
   "metadata": {
    "id": "EzXVRE1o_Zcu"
   },
   "outputs": [
    {
     "data": {
      "text/plain": [
       "genre\n",
       "pop            713\n",
       "rock           517\n",
       "dance          495\n",
       "electronic     482\n",
       "hiphop         273\n",
       "world          208\n",
       "ruspop         170\n",
       "alternative    163\n",
       "classical      163\n",
       "rusrap         142\n",
       "Name: artist, dtype: int64"
      ]
     },
     "execution_count": 33,
     "metadata": {},
     "output_type": "execute_result"
    }
   ],
   "source": [
    "genre_weekday(moscow_general, 'Friday', '17:00', '23:00')\n",
    "# вызов функции для вечера пятницы в Москве"
   ]
  },
  {
   "cell_type": "code",
   "execution_count": 34,
   "metadata": {
    "id": "JZaEKu5v_Zcu"
   },
   "outputs": [
    {
     "data": {
      "text/plain": [
       "genre\n",
       "pop            256\n",
       "rock           216\n",
       "electronic     216\n",
       "dance          210\n",
       "hiphop          97\n",
       "alternative     63\n",
       "jazz            61\n",
       "classical       60\n",
       "rusrap          59\n",
       "world           54\n",
       "Name: artist, dtype: int64"
      ]
     },
     "execution_count": 34,
     "metadata": {},
     "output_type": "execute_result"
    }
   ],
   "source": [
    "genre_weekday(spb_general, 'Friday', '17:00', '23:00')\n",
    "# вызов функции для вечера пятницы в Петербурге"
   ]
  },
  {
   "cell_type": "markdown",
   "metadata": {
    "id": "wrCe4MNX_Zcu"
   },
   "source": [
    "**Выводы**\n",
    "\n",
    "Если сравнить топ-10 жанров в понедельник утром, можно сделать такие выводы:\n",
    "\n",
    "1. В Москве и Петербурге слушают похожую музыку. Единственное отличие — в московский рейтинг вошёл жанр “world”, а в петербургский — джаз и классика.\n",
    "\n",
    "2. В Москве пропущенных значений оказалось так много, что значение `'unknown'` заняло десятое место среди самых популярных жанров. Значит, пропущенные значения занимают существенную долю в данных и угрожают достоверности исследования.\n",
    "\n",
    "Вечер пятницы не меняет эту картину. Некоторые жанры поднимаются немного выше, другие спускаются, но в целом топ-10 остаётся тем же самым.\n",
    "\n",
    "Таким образом, вторая гипотеза подтвердилась лишь частично:\n",
    "* Пользователи слушают похожую музыку в начале недели и в конце.\n",
    "* Разница между Москвой и Петербургом не слишком выражена. В Москве чаще слушают русскую популярную музыку, в Петербурге — джаз.\n",
    "\n",
    "Однако пропуски в данных ставят под сомнение этот результат. В Москве их так много, что рейтинг топ-10 мог бы выглядеть иначе, если бы не утерянные  данные о жанрах."
   ]
  },
  {
   "cell_type": "markdown",
   "metadata": {
    "id": "JolODAqr_Zcu"
   },
   "source": [
    "### Жанровые предпочтения в Москве и Петербурге\n",
    "\n",
    "Гипотеза: Петербург — столица рэпа, музыку этого жанра там слушают чаще, чем в Москве.  А Москва — город контрастов, в котором, тем не менее, преобладает поп-музыка."
   ]
  },
  {
   "cell_type": "markdown",
   "metadata": {
    "id": "DlegSvaT_Zcu"
   },
   "source": [
    "Сгруппируйте таблицу `moscow_general` по жанру и посчитайте прослушивания треков каждого жанра методом `count()`. Затем отсортируйте результат в порядке убывания и сохраните его в таблице `moscow_genres`."
   ]
  },
  {
   "cell_type": "code",
   "execution_count": 35,
   "metadata": {
    "id": "r19lIPke_Zcu"
   },
   "outputs": [
    {
     "data": {
      "text/plain": [
       "genre\n",
       "pop            5892\n",
       "dance          4435\n",
       "rock           3965\n",
       "electronic     3786\n",
       "hiphop         2096\n",
       "               ... \n",
       "malaysian         1\n",
       "marschmusik       1\n",
       "metalcore         1\n",
       "mood              1\n",
       "acid              1\n",
       "Name: genre, Length: 267, dtype: int64"
      ]
     },
     "metadata": {},
     "output_type": "display_data"
    }
   ],
   "source": [
    "moscow_general = moscow_general.groupby('genre')['genre'].count()\n",
    "moscow_genres = moscow_general.sort_values(ascending=False)\n",
    "display(moscow_genres)\n",
    "# одной строкой: группировка таблицы moscow_general по столбцу 'genre', \n",
    "# подсчёт числа значений 'genre' в этой группировке методом count(), \n",
    "# сортировка получившегося Series в порядке убывания и сохранение в moscow_genres"
   ]
  },
  {
   "cell_type": "markdown",
   "metadata": {
    "id": "6kMuomxTiIr8"
   },
   "source": [
    "Выведите на экран первые десять строк `moscow_genres`:"
   ]
  },
  {
   "cell_type": "code",
   "execution_count": 36,
   "metadata": {
    "id": "WhCSooF8_Zcv"
   },
   "outputs": [
    {
     "data": {
      "text/plain": [
       "genre\n",
       "pop            5892\n",
       "dance          4435\n",
       "rock           3965\n",
       "electronic     3786\n",
       "hiphop         2096\n",
       "classical      1616\n",
       "world          1432\n",
       "alternative    1379\n",
       "ruspop         1372\n",
       "rusrap         1161\n",
       "Name: genre, dtype: int64"
      ]
     },
     "metadata": {},
     "output_type": "display_data"
    }
   ],
   "source": [
    "display(moscow_genres.head(10))\n",
    "# просмотр первых 10 строк moscow_genres"
   ]
  },
  {
   "cell_type": "markdown",
   "metadata": {
    "id": "cnPG2vnN_Zcv"
   },
   "source": [
    "Теперь повторите то же и для Петербурга.\n",
    "\n",
    "Сгруппируйте таблицу `spb_general` по жанру. Посчитайте прослушивания треков каждого жанра. Результат отсортируйте в порядке убывания и сохраните в таблице `spb_genres`:\n"
   ]
  },
  {
   "cell_type": "code",
   "execution_count": 37,
   "metadata": {
    "id": "gluLIpE7_Zcv"
   },
   "outputs": [
    {
     "data": {
      "text/plain": [
       "genre\n",
       "pop            2431\n",
       "dance          1932\n",
       "rock           1879\n",
       "electronic     1736\n",
       "hiphop          960\n",
       "               ... \n",
       "mpb               1\n",
       "native            1\n",
       "neoklassik        1\n",
       "folklore          1\n",
       "электроника       1\n",
       "Name: genre, Length: 211, dtype: int64"
      ]
     },
     "metadata": {},
     "output_type": "display_data"
    }
   ],
   "source": [
    "spb_general = spb_general.groupby('genre')['genre'].count()\n",
    "spb_genres = spb_general.sort_values(ascending=False)\n",
    "display(spb_genres)\n",
    "# одной строкой: группировка таблицы spb_general по столбцу 'genre', \n",
    "# подсчёт числа значений 'genre' в этой группировке методом count(), \n",
    "# сортировка получившегося Series в порядке убывания и сохранение в spb_genres"
   ]
  },
  {
   "cell_type": "markdown",
   "metadata": {
    "id": "5Doha_ODgyQ8"
   },
   "source": [
    "Выведите на экран первые десять строк `spb_genres`:"
   ]
  },
  {
   "cell_type": "code",
   "execution_count": 38,
   "metadata": {
    "id": "uaGJHjVU_Zcv"
   },
   "outputs": [
    {
     "data": {
      "text/plain": [
       "genre\n",
       "pop            2431\n",
       "dance          1932\n",
       "rock           1879\n",
       "electronic     1736\n",
       "hiphop          960\n",
       "alternative     649\n",
       "classical       646\n",
       "rusrap          564\n",
       "ruspop          538\n",
       "world           515\n",
       "Name: genre, dtype: int64"
      ]
     },
     "metadata": {},
     "output_type": "display_data"
    }
   ],
   "source": [
    "display(spb_genres.head(10))\n",
    "# просмотр первых 10 строк spb_genres"
   ]
  },
  {
   "cell_type": "markdown",
   "metadata": {
    "id": "RY51YJYu_Zcv"
   },
   "source": [
    "**Выводы**"
   ]
  },
  {
   "cell_type": "markdown",
   "metadata": {
    "id": "nVhnJEm__Zcv"
   },
   "source": [
    "Гипотеза частично подтвердилась:\n",
    "* Поп-музыка — самый популярный жанр в Москве, как и предполагала гипотеза. Более того, в топ-10 жанров встречается близкий жанр — русская популярная музыка.\n",
    "* Вопреки ожиданиям, рэп одинаково популярен в Москве и Петербурге. \n"
   ]
  },
  {
   "cell_type": "markdown",
   "metadata": {},
   "source": [
    "<div class=\"alert alert-success\">\n",
    "<b>✔️ Комментарий ревьюера:</b> \n",
    "<br>Отлично, с жанровыми предпочтениями тоже разобрались.\n",
    "</div>"
   ]
  },
  {
   "cell_type": "markdown",
   "metadata": {
    "id": "ykKQ0N65_Zcv"
   },
   "source": [
    "## Итоги исследования"
   ]
  },
  {
   "cell_type": "markdown",
   "metadata": {
    "id": "tjUwbHb3_Zcv"
   },
   "source": [
    "Вы проверили три гипотезы и установили:\n",
    "\n",
    "1. День недели по-разному влияет на активность пользователей в Москве и Петербурге. \n",
    "\n",
    "Первая гипотеза полностью подтвердилась.\n",
    "\n",
    "2. Музыкальные предпочтения не сильно меняются в течение недели — будь то Москва или Петербург. Небольшие различия заметны в начале недели, по понедельникам:\n",
    "* в Москве слушают музыку жанра “world”,\n",
    "* в Петербурге — джаз и классику.\n",
    "\n",
    "Таким образом, вторая гипотеза подтвердилась лишь отчасти. Этот результат мог оказаться иным, если бы не пропуски в данных.\n",
    "\n",
    "3. Во вкусах пользователей Москвы и Петербурга больше общего чем различий. Вопреки ожиданиям, предпочтения жанров в Петербурге напоминают московские.\n",
    "\n",
    "Третья гипотеза не подтвердилась. Если различия в предпочтениях и существуют, на основной массе пользователей они незаметны.\n",
    "\n",
    "**На практике исследования содержат проверки статистических гипотез.**\n",
    "Из данных одного сервиса не всегда можно сделать вывод о всех жителях города.\n",
    "Проверки статистических гипотез покажут, насколько они достоверны, исходя из имеющихся данных. \n",
    "С методами проверок гипотез вы ещё познакомитесь в следующих темах."
   ]
  },
  {
   "cell_type": "markdown",
   "metadata": {},
   "source": [
    "<div class=\"alert alert-danger\">\n",
    "<b>❌ Итоговый комментарий ревьюера:</b> \n",
    "<br>Ты хорошо потрудилась, большая часть работы сделана, но остаётся внести следующие правки:\n",
    "<br>- Применить метод .sort_values() для сортировки значений\n",
    "<br>- Корректно вывести число прослушиваний в каждом городе и по каждому дню\n",
    "</div>"
   ]
  },
  {
   "cell_type": "markdown",
   "metadata": {},
   "source": [
    "<div class=\"alert alert-success\">\n",
    "<b>✔️ Итоговый комментарий ревьюера v2:</b>\n",
    "<br>У тебя отличная работа! Все правки выполнены ✅ Здорово, что ты проработала жёлтые комментарии. Практика никогда не бывает лишней)\n",
    "<br>Ты продемонстрировала владение базовыми методами pandas, которые очень пригодятся тебе в будущих проектах. Желаю удачи в дальнейшем обучении! 😉\n",
    "</div>"
   ]
  }
 ],
 "metadata": {
  "ExecuteTimeLog": [
   {
    "duration": 621,
    "start_time": "2022-01-25T12:57:44.173Z"
   },
   {
    "duration": 157,
    "start_time": "2022-01-25T12:58:28.824Z"
   },
   {
    "duration": 26,
    "start_time": "2022-01-25T12:59:10.897Z"
   },
   {
    "duration": 27,
    "start_time": "2022-01-25T12:59:30.116Z"
   },
   {
    "duration": 216,
    "start_time": "2022-01-25T13:00:05.865Z"
   },
   {
    "duration": 5,
    "start_time": "2022-01-25T13:00:11.574Z"
   },
   {
    "duration": 47,
    "start_time": "2022-01-25T13:01:41.053Z"
   },
   {
    "duration": 24,
    "start_time": "2022-01-25T13:02:05.598Z"
   },
   {
    "duration": 25,
    "start_time": "2022-01-25T13:02:23.058Z"
   },
   {
    "duration": 4,
    "start_time": "2022-01-25T13:02:31.080Z"
   },
   {
    "duration": 5,
    "start_time": "2022-01-25T13:04:12.194Z"
   },
   {
    "duration": 27,
    "start_time": "2022-01-25T13:04:44.497Z"
   },
   {
    "duration": 25,
    "start_time": "2022-01-25T13:05:31.679Z"
   },
   {
    "duration": 20,
    "start_time": "2022-01-25T13:07:50.475Z"
   },
   {
    "duration": 24,
    "start_time": "2022-01-25T13:08:10.151Z"
   },
   {
    "duration": 59,
    "start_time": "2022-01-25T13:10:22.279Z"
   },
   {
    "duration": 66,
    "start_time": "2022-01-25T13:11:14.711Z"
   },
   {
    "duration": 57,
    "start_time": "2022-01-25T13:11:22.478Z"
   },
   {
    "duration": 50,
    "start_time": "2022-01-25T13:12:47.201Z"
   },
   {
    "duration": 4,
    "start_time": "2022-01-25T13:15:14.158Z"
   },
   {
    "duration": 260,
    "start_time": "2022-01-25T13:16:50.108Z"
   },
   {
    "duration": 17,
    "start_time": "2022-01-25T13:17:01.593Z"
   },
   {
    "duration": 42,
    "start_time": "2022-01-25T13:17:57.657Z"
   },
   {
    "duration": 7,
    "start_time": "2022-01-25T13:18:03.776Z"
   },
   {
    "duration": 45,
    "start_time": "2022-01-25T13:20:59.561Z"
   },
   {
    "duration": 47,
    "start_time": "2022-01-25T13:21:17.734Z"
   },
   {
    "duration": 3,
    "start_time": "2022-01-25T13:25:13.697Z"
   },
   {
    "duration": 19,
    "start_time": "2022-01-25T13:26:03.447Z"
   },
   {
    "duration": 26,
    "start_time": "2022-01-25T13:26:25.685Z"
   },
   {
    "duration": 17,
    "start_time": "2022-01-25T13:26:46.794Z"
   },
   {
    "duration": 19,
    "start_time": "2022-01-25T13:26:59.346Z"
   },
   {
    "duration": 148,
    "start_time": "2022-01-25T13:27:16.251Z"
   },
   {
    "duration": 47,
    "start_time": "2022-01-25T13:27:24.145Z"
   },
   {
    "duration": 23,
    "start_time": "2022-01-25T13:27:38.282Z"
   },
   {
    "duration": 9,
    "start_time": "2022-01-25T13:32:48.595Z"
   },
   {
    "duration": 7,
    "start_time": "2022-01-25T13:34:14.357Z"
   },
   {
    "duration": 17,
    "start_time": "2022-01-25T13:36:32.846Z"
   },
   {
    "duration": 158,
    "start_time": "2022-01-25T13:38:05.752Z"
   },
   {
    "duration": 37,
    "start_time": "2022-01-25T13:38:12.280Z"
   },
   {
    "duration": 27,
    "start_time": "2022-01-25T13:38:48.495Z"
   },
   {
    "duration": 4,
    "start_time": "2022-01-25T13:51:16.537Z"
   },
   {
    "duration": 4,
    "start_time": "2022-01-25T13:51:20.641Z"
   },
   {
    "duration": 4,
    "start_time": "2022-01-25T13:53:03.781Z"
   },
   {
    "duration": 6,
    "start_time": "2022-01-25T14:06:44.800Z"
   },
   {
    "duration": 4,
    "start_time": "2022-01-25T14:12:32.468Z"
   },
   {
    "duration": 4,
    "start_time": "2022-01-25T14:15:38.826Z"
   },
   {
    "duration": 5,
    "start_time": "2022-01-25T14:17:06.183Z"
   },
   {
    "duration": 128,
    "start_time": "2022-01-25T14:17:55.623Z"
   },
   {
    "duration": 7,
    "start_time": "2022-01-25T14:18:04.402Z"
   },
   {
    "duration": 4,
    "start_time": "2022-01-25T14:18:56.813Z"
   },
   {
    "duration": 4,
    "start_time": "2022-01-25T14:19:14.684Z"
   },
   {
    "duration": 315,
    "start_time": "2022-01-25T14:22:28.938Z"
   },
   {
    "duration": 4,
    "start_time": "2022-01-25T14:23:35.368Z"
   },
   {
    "duration": 313,
    "start_time": "2022-01-25T14:23:37.626Z"
   },
   {
    "duration": 6,
    "start_time": "2022-01-25T14:23:57.544Z"
   },
   {
    "duration": 313,
    "start_time": "2022-01-25T14:24:05.911Z"
   },
   {
    "duration": 4,
    "start_time": "2022-01-25T14:24:29.308Z"
   },
   {
    "duration": 47,
    "start_time": "2022-01-25T14:24:32.070Z"
   },
   {
    "duration": 23,
    "start_time": "2022-01-25T14:26:07.834Z"
   },
   {
    "duration": 30,
    "start_time": "2022-01-25T14:26:59.926Z"
   },
   {
    "duration": 22,
    "start_time": "2022-01-25T14:27:12.228Z"
   },
   {
    "duration": 4,
    "start_time": "2022-01-25T14:30:58.244Z"
   },
   {
    "duration": 40,
    "start_time": "2022-01-25T14:31:01.088Z"
   },
   {
    "duration": 36,
    "start_time": "2022-01-25T14:31:06.145Z"
   },
   {
    "duration": 36,
    "start_time": "2022-01-25T14:31:11.725Z"
   },
   {
    "duration": 35,
    "start_time": "2022-01-25T14:31:14.856Z"
   },
   {
    "duration": 5,
    "start_time": "2022-01-25T14:31:31.440Z"
   },
   {
    "duration": 274,
    "start_time": "2022-01-25T14:31:34.361Z"
   },
   {
    "duration": 4,
    "start_time": "2022-01-25T14:31:42.386Z"
   },
   {
    "duration": 37,
    "start_time": "2022-01-25T14:31:44.186Z"
   },
   {
    "duration": 32,
    "start_time": "2022-01-25T14:32:27.953Z"
   },
   {
    "duration": 34,
    "start_time": "2022-01-25T14:32:34.850Z"
   },
   {
    "duration": 31,
    "start_time": "2022-01-25T14:32:49.425Z"
   },
   {
    "duration": 5,
    "start_time": "2022-01-25T14:35:48.068Z"
   },
   {
    "duration": 38,
    "start_time": "2022-01-25T14:35:53.037Z"
   },
   {
    "duration": 574,
    "start_time": "2022-01-25T14:36:12.915Z"
   },
   {
    "duration": 154,
    "start_time": "2022-01-25T14:36:13.491Z"
   },
   {
    "duration": 17,
    "start_time": "2022-01-25T14:36:13.648Z"
   },
   {
    "duration": 39,
    "start_time": "2022-01-25T14:36:13.667Z"
   },
   {
    "duration": 11,
    "start_time": "2022-01-25T14:36:13.708Z"
   },
   {
    "duration": 31,
    "start_time": "2022-01-25T14:36:13.721Z"
   },
   {
    "duration": 49,
    "start_time": "2022-01-25T14:36:13.754Z"
   },
   {
    "duration": 75,
    "start_time": "2022-01-25T14:36:13.807Z"
   },
   {
    "duration": 38,
    "start_time": "2022-01-25T14:36:13.886Z"
   },
   {
    "duration": 49,
    "start_time": "2022-01-25T14:36:13.927Z"
   },
   {
    "duration": 115,
    "start_time": "2022-01-25T14:36:13.979Z"
   },
   {
    "duration": 83,
    "start_time": "2022-01-25T14:36:14.096Z"
   },
   {
    "duration": 81,
    "start_time": "2022-01-25T14:36:14.181Z"
   },
   {
    "duration": 65,
    "start_time": "2022-01-25T14:36:14.264Z"
   },
   {
    "duration": 3,
    "start_time": "2022-01-25T14:36:14.331Z"
   },
   {
    "duration": 21,
    "start_time": "2022-01-25T14:36:14.336Z"
   },
   {
    "duration": 7,
    "start_time": "2022-01-25T14:36:14.359Z"
   },
   {
    "duration": 69,
    "start_time": "2022-01-25T14:36:14.367Z"
   },
   {
    "duration": 45,
    "start_time": "2022-01-25T14:36:14.438Z"
   },
   {
    "duration": 4,
    "start_time": "2022-01-25T14:36:14.498Z"
   },
   {
    "duration": 29,
    "start_time": "2022-01-25T14:36:14.504Z"
   },
   {
    "duration": 16,
    "start_time": "2022-01-25T14:36:14.535Z"
   },
   {
    "duration": 17,
    "start_time": "2022-01-25T14:36:14.554Z"
   },
   {
    "duration": 42,
    "start_time": "2022-01-25T14:36:14.573Z"
   },
   {
    "duration": 19,
    "start_time": "2022-01-25T14:36:14.617Z"
   },
   {
    "duration": 17,
    "start_time": "2022-01-25T14:36:14.638Z"
   },
   {
    "duration": 46,
    "start_time": "2022-01-25T14:36:14.657Z"
   },
   {
    "duration": 21,
    "start_time": "2022-01-25T14:36:14.705Z"
   },
   {
    "duration": 18,
    "start_time": "2022-01-25T14:36:14.727Z"
   },
   {
    "duration": 4,
    "start_time": "2022-01-25T14:36:14.747Z"
   },
   {
    "duration": 79,
    "start_time": "2022-01-25T14:36:14.753Z"
   },
   {
    "duration": 20,
    "start_time": "2022-01-25T14:36:14.834Z"
   },
   {
    "duration": 48,
    "start_time": "2022-01-25T14:36:14.856Z"
   },
   {
    "duration": 18,
    "start_time": "2022-01-25T14:36:14.906Z"
   },
   {
    "duration": 3,
    "start_time": "2022-01-25T14:36:14.926Z"
   },
   {
    "duration": 7,
    "start_time": "2022-01-25T14:36:14.931Z"
   },
   {
    "duration": 6,
    "start_time": "2022-01-25T14:36:14.940Z"
   },
   {
    "duration": 10,
    "start_time": "2022-01-25T14:36:14.948Z"
   },
   {
    "duration": 5,
    "start_time": "2022-01-25T14:41:25.122Z"
   },
   {
    "duration": 360,
    "start_time": "2022-01-25T14:41:28.372Z"
   },
   {
    "duration": 4,
    "start_time": "2022-01-25T14:41:50.095Z"
   },
   {
    "duration": 35,
    "start_time": "2022-01-25T14:41:53.211Z"
   },
   {
    "duration": 5,
    "start_time": "2022-01-25T14:42:03.982Z"
   },
   {
    "duration": 534,
    "start_time": "2022-01-25T14:42:11.137Z"
   },
   {
    "duration": 148,
    "start_time": "2022-01-25T14:42:11.674Z"
   },
   {
    "duration": 17,
    "start_time": "2022-01-25T14:42:11.826Z"
   },
   {
    "duration": 32,
    "start_time": "2022-01-25T14:42:11.845Z"
   },
   {
    "duration": 20,
    "start_time": "2022-01-25T14:42:11.879Z"
   },
   {
    "duration": 27,
    "start_time": "2022-01-25T14:42:11.900Z"
   },
   {
    "duration": 11,
    "start_time": "2022-01-25T14:42:11.929Z"
   },
   {
    "duration": 26,
    "start_time": "2022-01-25T14:42:11.942Z"
   },
   {
    "duration": 31,
    "start_time": "2022-01-25T14:42:11.969Z"
   },
   {
    "duration": 41,
    "start_time": "2022-01-25T14:42:12.002Z"
   },
   {
    "duration": 63,
    "start_time": "2022-01-25T14:42:12.045Z"
   },
   {
    "duration": 62,
    "start_time": "2022-01-25T14:42:12.110Z"
   },
   {
    "duration": 64,
    "start_time": "2022-01-25T14:42:12.173Z"
   },
   {
    "duration": 58,
    "start_time": "2022-01-25T14:42:12.239Z"
   },
   {
    "duration": 2,
    "start_time": "2022-01-25T14:42:12.299Z"
   },
   {
    "duration": 18,
    "start_time": "2022-01-25T14:42:12.303Z"
   },
   {
    "duration": 7,
    "start_time": "2022-01-25T14:42:12.323Z"
   },
   {
    "duration": 44,
    "start_time": "2022-01-25T14:42:12.332Z"
   },
   {
    "duration": 61,
    "start_time": "2022-01-25T14:42:12.377Z"
   },
   {
    "duration": 3,
    "start_time": "2022-01-25T14:42:12.440Z"
   },
   {
    "duration": 26,
    "start_time": "2022-01-25T14:42:12.445Z"
   },
   {
    "duration": 36,
    "start_time": "2022-01-25T14:42:12.474Z"
   },
   {
    "duration": 42,
    "start_time": "2022-01-25T14:42:12.511Z"
   },
   {
    "duration": 19,
    "start_time": "2022-01-25T14:42:12.555Z"
   },
   {
    "duration": 17,
    "start_time": "2022-01-25T14:42:12.576Z"
   },
   {
    "duration": 16,
    "start_time": "2022-01-25T14:42:12.595Z"
   },
   {
    "duration": 8,
    "start_time": "2022-01-25T14:42:12.613Z"
   },
   {
    "duration": 26,
    "start_time": "2022-01-25T14:42:12.623Z"
   },
   {
    "duration": 17,
    "start_time": "2022-01-25T14:42:12.651Z"
   },
   {
    "duration": 3,
    "start_time": "2022-01-25T14:42:12.698Z"
   },
   {
    "duration": 36,
    "start_time": "2022-01-25T14:42:12.703Z"
   },
   {
    "duration": 18,
    "start_time": "2022-01-25T14:42:12.741Z"
   },
   {
    "duration": 49,
    "start_time": "2022-01-25T14:42:12.760Z"
   },
   {
    "duration": 16,
    "start_time": "2022-01-25T14:42:12.810Z"
   },
   {
    "duration": 1,
    "start_time": "2022-01-25T14:42:12.828Z"
   },
   {
    "duration": 6,
    "start_time": "2022-01-25T14:42:12.831Z"
   },
   {
    "duration": 6,
    "start_time": "2022-01-25T14:42:12.838Z"
   },
   {
    "duration": 9,
    "start_time": "2022-01-25T14:42:12.846Z"
   },
   {
    "duration": 302,
    "start_time": "2022-01-25T19:03:51.094Z"
   },
   {
    "duration": 608,
    "start_time": "2022-01-25T19:04:03.205Z"
   },
   {
    "duration": 122,
    "start_time": "2022-01-25T19:04:03.815Z"
   },
   {
    "duration": 17,
    "start_time": "2022-01-25T19:04:03.940Z"
   },
   {
    "duration": 24,
    "start_time": "2022-01-25T19:04:03.959Z"
   },
   {
    "duration": 3,
    "start_time": "2022-01-25T19:04:03.985Z"
   },
   {
    "duration": 48,
    "start_time": "2022-01-25T19:04:03.989Z"
   },
   {
    "duration": 8,
    "start_time": "2022-01-25T19:04:04.039Z"
   },
   {
    "duration": 25,
    "start_time": "2022-01-25T19:04:04.050Z"
   },
   {
    "duration": 17,
    "start_time": "2022-01-25T19:04:04.077Z"
   },
   {
    "duration": 35,
    "start_time": "2022-01-25T19:04:04.095Z"
   },
   {
    "duration": 57,
    "start_time": "2022-01-25T19:04:04.132Z"
   },
   {
    "duration": 80,
    "start_time": "2022-01-25T19:04:04.190Z"
   },
   {
    "duration": 56,
    "start_time": "2022-01-25T19:04:04.272Z"
   },
   {
    "duration": 57,
    "start_time": "2022-01-25T19:04:04.330Z"
   },
   {
    "duration": 2,
    "start_time": "2022-01-25T19:04:04.389Z"
   },
   {
    "duration": 20,
    "start_time": "2022-01-25T19:04:04.393Z"
   },
   {
    "duration": 16,
    "start_time": "2022-01-25T19:04:04.415Z"
   },
   {
    "duration": 41,
    "start_time": "2022-01-25T19:04:04.432Z"
   },
   {
    "duration": 52,
    "start_time": "2022-01-25T19:04:04.475Z"
   },
   {
    "duration": 3,
    "start_time": "2022-01-25T19:04:04.529Z"
   },
   {
    "duration": 17,
    "start_time": "2022-01-25T19:04:04.533Z"
   },
   {
    "duration": 12,
    "start_time": "2022-01-25T19:04:04.552Z"
   },
   {
    "duration": 13,
    "start_time": "2022-01-25T19:04:04.566Z"
   },
   {
    "duration": 11,
    "start_time": "2022-01-25T19:04:04.581Z"
   },
   {
    "duration": 39,
    "start_time": "2022-01-25T19:04:04.594Z"
   },
   {
    "duration": 13,
    "start_time": "2022-01-25T19:04:04.634Z"
   },
   {
    "duration": 7,
    "start_time": "2022-01-25T19:04:04.648Z"
   },
   {
    "duration": 19,
    "start_time": "2022-01-25T19:04:04.657Z"
   },
   {
    "duration": 16,
    "start_time": "2022-01-25T19:04:04.677Z"
   },
   {
    "duration": 3,
    "start_time": "2022-01-25T19:04:04.694Z"
   },
   {
    "duration": 60,
    "start_time": "2022-01-25T19:04:04.699Z"
   },
   {
    "duration": 19,
    "start_time": "2022-01-25T19:04:04.761Z"
   },
   {
    "duration": 30,
    "start_time": "2022-01-25T19:04:04.782Z"
   },
   {
    "duration": 23,
    "start_time": "2022-01-25T19:04:04.814Z"
   },
   {
    "duration": 1,
    "start_time": "2022-01-25T19:04:04.839Z"
   },
   {
    "duration": 6,
    "start_time": "2022-01-25T19:04:04.842Z"
   },
   {
    "duration": 6,
    "start_time": "2022-01-25T19:04:04.849Z"
   },
   {
    "duration": 5,
    "start_time": "2022-01-25T19:04:04.856Z"
   },
   {
    "duration": 4,
    "start_time": "2022-01-25T19:05:29.233Z"
   },
   {
    "duration": 27,
    "start_time": "2022-01-25T19:05:32.306Z"
   },
   {
    "duration": 3,
    "start_time": "2022-01-25T19:05:49.395Z"
   },
   {
    "duration": 588,
    "start_time": "2022-01-25T19:05:53.414Z"
   },
   {
    "duration": 3,
    "start_time": "2022-01-25T19:06:04.250Z"
   },
   {
    "duration": 23,
    "start_time": "2022-01-25T19:06:07.043Z"
   },
   {
    "duration": 4,
    "start_time": "2022-01-25T19:08:00.385Z"
   },
   {
    "duration": 572,
    "start_time": "2022-01-25T19:08:04.994Z"
   },
   {
    "duration": 3,
    "start_time": "2022-01-25T19:08:45.625Z"
   },
   {
    "duration": 544,
    "start_time": "2022-01-25T19:08:48.204Z"
   },
   {
    "duration": 7,
    "start_time": "2022-01-25T19:09:23.417Z"
   },
   {
    "duration": 27,
    "start_time": "2022-01-25T19:09:27.264Z"
   },
   {
    "duration": 4,
    "start_time": "2022-01-25T19:10:21.996Z"
   },
   {
    "duration": -1519,
    "start_time": "2022-01-25T19:10:42.716Z"
   },
   {
    "duration": -1535,
    "start_time": "2022-01-25T19:10:42.733Z"
   },
   {
    "duration": 7797,
    "start_time": "2022-01-25T19:10:42.625Z"
   },
   {
    "duration": -1261,
    "start_time": "2022-01-25T19:10:51.685Z"
   },
   {
    "duration": 7853,
    "start_time": "2022-01-25T19:10:52.875Z"
   },
   {
    "duration": 765,
    "start_time": "2022-01-25T19:11:09.820Z"
   },
   {
    "duration": 205,
    "start_time": "2022-01-25T19:11:10.587Z"
   },
   {
    "duration": 23,
    "start_time": "2022-01-25T19:11:10.795Z"
   },
   {
    "duration": 27,
    "start_time": "2022-01-25T19:11:10.819Z"
   },
   {
    "duration": 4,
    "start_time": "2022-01-25T19:11:10.850Z"
   },
   {
    "duration": 22,
    "start_time": "2022-01-25T19:11:10.856Z"
   },
   {
    "duration": 6,
    "start_time": "2022-01-25T19:11:10.879Z"
   },
   {
    "duration": 43,
    "start_time": "2022-01-25T19:11:10.887Z"
   },
   {
    "duration": 15,
    "start_time": "2022-01-25T19:11:10.933Z"
   },
   {
    "duration": 21,
    "start_time": "2022-01-25T19:11:10.950Z"
   },
   {
    "duration": 71,
    "start_time": "2022-01-25T19:11:10.973Z"
   },
   {
    "duration": 93,
    "start_time": "2022-01-25T19:11:11.045Z"
   },
   {
    "duration": 89,
    "start_time": "2022-01-25T19:11:11.141Z"
   },
   {
    "duration": 48,
    "start_time": "2022-01-25T19:11:11.232Z"
   },
   {
    "duration": 3,
    "start_time": "2022-01-25T19:11:11.282Z"
   },
   {
    "duration": 16,
    "start_time": "2022-01-25T19:11:11.286Z"
   },
   {
    "duration": 6,
    "start_time": "2022-01-25T19:11:11.303Z"
   },
   {
    "duration": 36,
    "start_time": "2022-01-25T19:11:11.327Z"
   },
   {
    "duration": 34,
    "start_time": "2022-01-25T19:11:11.365Z"
   },
   {
    "duration": 3,
    "start_time": "2022-01-25T19:11:11.401Z"
   },
   {
    "duration": 33,
    "start_time": "2022-01-25T19:11:11.405Z"
   },
   {
    "duration": 13,
    "start_time": "2022-01-25T19:11:11.439Z"
   },
   {
    "duration": 14,
    "start_time": "2022-01-25T19:11:11.453Z"
   },
   {
    "duration": 13,
    "start_time": "2022-01-25T19:11:11.468Z"
   },
   {
    "duration": 48,
    "start_time": "2022-01-25T19:11:11.482Z"
   },
   {
    "duration": 13,
    "start_time": "2022-01-25T19:11:11.532Z"
   },
   {
    "duration": 7,
    "start_time": "2022-01-25T19:11:11.548Z"
   },
   {
    "duration": 21,
    "start_time": "2022-01-25T19:11:11.557Z"
   },
   {
    "duration": 16,
    "start_time": "2022-01-25T19:11:11.579Z"
   },
   {
    "duration": 4,
    "start_time": "2022-01-25T19:11:11.627Z"
   },
   {
    "duration": 39,
    "start_time": "2022-01-25T19:11:11.633Z"
   },
   {
    "duration": 15,
    "start_time": "2022-01-25T19:11:11.674Z"
   },
   {
    "duration": 40,
    "start_time": "2022-01-25T19:11:11.691Z"
   },
   {
    "duration": 16,
    "start_time": "2022-01-25T19:11:11.733Z"
   },
   {
    "duration": 3,
    "start_time": "2022-01-25T19:11:11.750Z"
   },
   {
    "duration": 7,
    "start_time": "2022-01-25T19:11:11.754Z"
   },
   {
    "duration": 5,
    "start_time": "2022-01-25T19:11:11.762Z"
   },
   {
    "duration": 4,
    "start_time": "2022-01-25T19:11:11.768Z"
   },
   {
    "duration": 4,
    "start_time": "2022-01-25T19:18:49.792Z"
   },
   {
    "duration": 701,
    "start_time": "2022-01-25T19:18:53.191Z"
   },
   {
    "duration": 3,
    "start_time": "2022-01-25T19:19:18.690Z"
   },
   {
    "duration": 18,
    "start_time": "2022-01-25T19:19:21.224Z"
   },
   {
    "duration": 12,
    "start_time": "2022-01-25T19:19:27.004Z"
   },
   {
    "duration": 17,
    "start_time": "2022-01-25T19:19:31.955Z"
   },
   {
    "duration": 12,
    "start_time": "2022-01-25T19:19:34.955Z"
   },
   {
    "duration": 100,
    "start_time": "2022-01-25T19:33:06.800Z"
   },
   {
    "duration": 9,
    "start_time": "2022-01-25T19:36:29.942Z"
   },
   {
    "duration": 90,
    "start_time": "2022-01-25T19:38:03.499Z"
   },
   {
    "duration": 6,
    "start_time": "2022-01-25T19:38:15.829Z"
   },
   {
    "duration": 91,
    "start_time": "2022-01-25T19:39:20.699Z"
   },
   {
    "duration": 7,
    "start_time": "2022-01-25T19:39:28.268Z"
   },
   {
    "duration": 278,
    "start_time": "2022-01-25T19:40:14.589Z"
   },
   {
    "duration": 11,
    "start_time": "2022-01-25T19:40:30.334Z"
   },
   {
    "duration": 363,
    "start_time": "2022-01-25T19:41:20.663Z"
   },
   {
    "duration": 7,
    "start_time": "2022-01-25T19:42:52.802Z"
   },
   {
    "duration": 5,
    "start_time": "2022-01-25T19:42:58.279Z"
   },
   {
    "duration": 273,
    "start_time": "2022-01-25T19:43:43.555Z"
   },
   {
    "duration": 7,
    "start_time": "2022-01-25T19:44:08.519Z"
   },
   {
    "duration": 274,
    "start_time": "2022-01-25T19:50:20.049Z"
   },
   {
    "duration": 259,
    "start_time": "2022-01-25T19:56:44.321Z"
   },
   {
    "duration": 11,
    "start_time": "2022-01-25T19:57:07.814Z"
   },
   {
    "duration": 4,
    "start_time": "2022-01-25T19:57:43.886Z"
   },
   {
    "duration": 12,
    "start_time": "2022-01-25T20:00:42.547Z"
   },
   {
    "duration": 275,
    "start_time": "2022-01-25T20:01:05.050Z"
   },
   {
    "duration": 556,
    "start_time": "2022-01-25T20:01:30.651Z"
   },
   {
    "duration": 129,
    "start_time": "2022-01-25T20:01:31.208Z"
   },
   {
    "duration": 15,
    "start_time": "2022-01-25T20:01:31.339Z"
   },
   {
    "duration": 23,
    "start_time": "2022-01-25T20:01:31.356Z"
   },
   {
    "duration": 3,
    "start_time": "2022-01-25T20:01:31.381Z"
   },
   {
    "duration": 20,
    "start_time": "2022-01-25T20:01:31.386Z"
   },
   {
    "duration": 20,
    "start_time": "2022-01-25T20:01:31.408Z"
   },
   {
    "duration": 22,
    "start_time": "2022-01-25T20:01:31.429Z"
   },
   {
    "duration": 15,
    "start_time": "2022-01-25T20:01:31.454Z"
   },
   {
    "duration": 21,
    "start_time": "2022-01-25T20:01:31.471Z"
   },
   {
    "duration": 77,
    "start_time": "2022-01-25T20:01:31.493Z"
   },
   {
    "duration": 75,
    "start_time": "2022-01-25T20:01:31.572Z"
   },
   {
    "duration": 47,
    "start_time": "2022-01-25T20:01:31.648Z"
   },
   {
    "duration": 54,
    "start_time": "2022-01-25T20:01:31.697Z"
   },
   {
    "duration": 3,
    "start_time": "2022-01-25T20:01:31.753Z"
   },
   {
    "duration": 19,
    "start_time": "2022-01-25T20:01:31.757Z"
   },
   {
    "duration": 7,
    "start_time": "2022-01-25T20:01:31.777Z"
   },
   {
    "duration": 60,
    "start_time": "2022-01-25T20:01:31.785Z"
   },
   {
    "duration": 36,
    "start_time": "2022-01-25T20:01:31.846Z"
   },
   {
    "duration": 4,
    "start_time": "2022-01-25T20:01:31.884Z"
   },
   {
    "duration": 21,
    "start_time": "2022-01-25T20:01:31.889Z"
   },
   {
    "duration": 13,
    "start_time": "2022-01-25T20:01:31.927Z"
   },
   {
    "duration": 13,
    "start_time": "2022-01-25T20:01:31.942Z"
   },
   {
    "duration": 12,
    "start_time": "2022-01-25T20:01:31.956Z"
   },
   {
    "duration": 15,
    "start_time": "2022-01-25T20:01:31.969Z"
   },
   {
    "duration": 42,
    "start_time": "2022-01-25T20:01:31.986Z"
   },
   {
    "duration": 8,
    "start_time": "2022-01-25T20:01:32.031Z"
   },
   {
    "duration": 20,
    "start_time": "2022-01-25T20:01:32.040Z"
   },
   {
    "duration": 16,
    "start_time": "2022-01-25T20:01:32.061Z"
   },
   {
    "duration": 3,
    "start_time": "2022-01-25T20:01:32.078Z"
   },
   {
    "duration": 20,
    "start_time": "2022-01-25T20:01:32.083Z"
   },
   {
    "duration": 11,
    "start_time": "2022-01-25T20:01:32.127Z"
   },
   {
    "duration": 15,
    "start_time": "2022-01-25T20:01:32.139Z"
   },
   {
    "duration": 10,
    "start_time": "2022-01-25T20:01:32.155Z"
   },
   {
    "duration": 10,
    "start_time": "2022-01-25T20:01:32.167Z"
   },
   {
    "duration": 4,
    "start_time": "2022-01-25T20:01:32.178Z"
   },
   {
    "duration": 45,
    "start_time": "2022-01-25T20:01:32.183Z"
   },
   {
    "duration": 2,
    "start_time": "2022-01-25T20:01:32.229Z"
   },
   {
    "duration": 319,
    "start_time": "2022-01-25T20:02:02.846Z"
   },
   {
    "duration": 4,
    "start_time": "2022-01-25T20:02:48.092Z"
   },
   {
    "duration": 599,
    "start_time": "2022-01-25T20:02:59.420Z"
   },
   {
    "duration": 150,
    "start_time": "2022-01-25T20:03:00.021Z"
   },
   {
    "duration": 14,
    "start_time": "2022-01-25T20:03:00.173Z"
   },
   {
    "duration": 24,
    "start_time": "2022-01-25T20:03:00.189Z"
   },
   {
    "duration": 14,
    "start_time": "2022-01-25T20:03:00.215Z"
   },
   {
    "duration": 34,
    "start_time": "2022-01-25T20:03:00.231Z"
   },
   {
    "duration": 4,
    "start_time": "2022-01-25T20:03:00.266Z"
   },
   {
    "duration": 22,
    "start_time": "2022-01-25T20:03:00.272Z"
   },
   {
    "duration": 33,
    "start_time": "2022-01-25T20:03:00.296Z"
   },
   {
    "duration": 37,
    "start_time": "2022-01-25T20:03:00.332Z"
   },
   {
    "duration": 66,
    "start_time": "2022-01-25T20:03:00.370Z"
   },
   {
    "duration": 77,
    "start_time": "2022-01-25T20:03:00.438Z"
   },
   {
    "duration": 46,
    "start_time": "2022-01-25T20:03:00.527Z"
   },
   {
    "duration": 55,
    "start_time": "2022-01-25T20:03:00.574Z"
   },
   {
    "duration": 2,
    "start_time": "2022-01-25T20:03:00.631Z"
   },
   {
    "duration": 16,
    "start_time": "2022-01-25T20:03:00.635Z"
   },
   {
    "duration": 5,
    "start_time": "2022-01-25T20:03:00.653Z"
   },
   {
    "duration": 43,
    "start_time": "2022-01-25T20:03:00.659Z"
   },
   {
    "duration": 46,
    "start_time": "2022-01-25T20:03:00.704Z"
   },
   {
    "duration": 3,
    "start_time": "2022-01-25T20:03:00.751Z"
   },
   {
    "duration": 23,
    "start_time": "2022-01-25T20:03:00.756Z"
   },
   {
    "duration": 13,
    "start_time": "2022-01-25T20:03:00.781Z"
   },
   {
    "duration": 31,
    "start_time": "2022-01-25T20:03:00.798Z"
   },
   {
    "duration": 13,
    "start_time": "2022-01-25T20:03:00.831Z"
   },
   {
    "duration": 27,
    "start_time": "2022-01-25T20:03:00.845Z"
   },
   {
    "duration": 12,
    "start_time": "2022-01-25T20:03:00.873Z"
   },
   {
    "duration": 11,
    "start_time": "2022-01-25T20:03:00.887Z"
   },
   {
    "duration": 30,
    "start_time": "2022-01-25T20:03:00.900Z"
   },
   {
    "duration": 18,
    "start_time": "2022-01-25T20:03:00.932Z"
   },
   {
    "duration": 4,
    "start_time": "2022-01-25T20:03:00.952Z"
   },
   {
    "duration": 40,
    "start_time": "2022-01-25T20:03:00.957Z"
   },
   {
    "duration": 11,
    "start_time": "2022-01-25T20:03:00.998Z"
   },
   {
    "duration": 25,
    "start_time": "2022-01-25T20:03:01.011Z"
   },
   {
    "duration": 11,
    "start_time": "2022-01-25T20:03:01.038Z"
   },
   {
    "duration": 14,
    "start_time": "2022-01-25T20:03:01.050Z"
   },
   {
    "duration": 5,
    "start_time": "2022-01-25T20:03:01.065Z"
   },
   {
    "duration": 21,
    "start_time": "2022-01-25T20:03:01.071Z"
   },
   {
    "duration": 4,
    "start_time": "2022-01-25T20:03:01.093Z"
   },
   {
    "duration": 656,
    "start_time": "2022-02-02T19:56:10.186Z"
   },
   {
    "duration": 160,
    "start_time": "2022-02-02T19:56:10.845Z"
   },
   {
    "duration": 22,
    "start_time": "2022-02-02T19:56:11.010Z"
   },
   {
    "duration": 28,
    "start_time": "2022-02-02T19:56:11.034Z"
   },
   {
    "duration": 5,
    "start_time": "2022-02-02T19:56:11.064Z"
   },
   {
    "duration": 58,
    "start_time": "2022-02-02T19:56:11.071Z"
   },
   {
    "duration": 15,
    "start_time": "2022-02-02T19:56:11.132Z"
   },
   {
    "duration": 27,
    "start_time": "2022-02-02T19:56:11.149Z"
   },
   {
    "duration": 118,
    "start_time": "2022-02-02T19:56:11.178Z"
   },
   {
    "duration": 32,
    "start_time": "2022-02-02T19:56:11.298Z"
   },
   {
    "duration": 113,
    "start_time": "2022-02-02T19:56:11.331Z"
   },
   {
    "duration": 93,
    "start_time": "2022-02-02T19:56:11.447Z"
   },
   {
    "duration": 74,
    "start_time": "2022-02-02T19:56:11.543Z"
   },
   {
    "duration": 54,
    "start_time": "2022-02-02T19:56:11.619Z"
   },
   {
    "duration": 3,
    "start_time": "2022-02-02T19:56:11.675Z"
   },
   {
    "duration": 37,
    "start_time": "2022-02-02T19:56:11.680Z"
   },
   {
    "duration": 9,
    "start_time": "2022-02-02T19:56:11.718Z"
   },
   {
    "duration": 44,
    "start_time": "2022-02-02T19:56:11.728Z"
   },
   {
    "duration": 64,
    "start_time": "2022-02-02T19:56:11.774Z"
   },
   {
    "duration": 3,
    "start_time": "2022-02-02T19:56:11.840Z"
   },
   {
    "duration": 27,
    "start_time": "2022-02-02T19:56:11.845Z"
   },
   {
    "duration": 33,
    "start_time": "2022-02-02T19:56:11.876Z"
   },
   {
    "duration": 18,
    "start_time": "2022-02-02T19:56:11.911Z"
   },
   {
    "duration": 16,
    "start_time": "2022-02-02T19:56:11.931Z"
   },
   {
    "duration": 21,
    "start_time": "2022-02-02T19:56:11.949Z"
   },
   {
    "duration": 51,
    "start_time": "2022-02-02T19:56:11.973Z"
   },
   {
    "duration": 13,
    "start_time": "2022-02-02T19:56:12.025Z"
   },
   {
    "duration": 27,
    "start_time": "2022-02-02T19:56:12.040Z"
   },
   {
    "duration": 42,
    "start_time": "2022-02-02T19:56:12.068Z"
   },
   {
    "duration": 4,
    "start_time": "2022-02-02T19:56:12.112Z"
   },
   {
    "duration": 31,
    "start_time": "2022-02-02T19:56:12.118Z"
   },
   {
    "duration": 16,
    "start_time": "2022-02-02T19:56:12.153Z"
   },
   {
    "duration": 49,
    "start_time": "2022-02-02T19:56:12.171Z"
   },
   {
    "duration": 14,
    "start_time": "2022-02-02T19:56:12.222Z"
   },
   {
    "duration": 13,
    "start_time": "2022-02-02T19:56:12.237Z"
   },
   {
    "duration": 5,
    "start_time": "2022-02-02T19:56:12.252Z"
   },
   {
    "duration": 16,
    "start_time": "2022-02-02T19:56:12.259Z"
   },
   {
    "duration": 32,
    "start_time": "2022-02-02T19:56:12.276Z"
   },
   {
    "duration": 425,
    "start_time": "2022-02-03T12:54:31.418Z"
   },
   {
    "duration": 333,
    "start_time": "2022-02-03T12:54:50.832Z"
   },
   {
    "duration": 365,
    "start_time": "2022-02-03T12:55:00.932Z"
   },
   {
    "duration": 814,
    "start_time": "2022-02-03T12:55:11.021Z"
   },
   {
    "duration": 179,
    "start_time": "2022-02-03T12:55:11.838Z"
   },
   {
    "duration": 26,
    "start_time": "2022-02-03T12:55:12.021Z"
   },
   {
    "duration": 34,
    "start_time": "2022-02-03T12:55:12.049Z"
   },
   {
    "duration": 5,
    "start_time": "2022-02-03T12:55:12.086Z"
   },
   {
    "duration": 30,
    "start_time": "2022-02-03T12:55:12.125Z"
   },
   {
    "duration": 6,
    "start_time": "2022-02-03T12:55:12.157Z"
   },
   {
    "duration": 62,
    "start_time": "2022-02-03T12:55:12.167Z"
   },
   {
    "duration": 30,
    "start_time": "2022-02-03T12:55:12.232Z"
   },
   {
    "duration": 68,
    "start_time": "2022-02-03T12:55:12.265Z"
   },
   {
    "duration": 129,
    "start_time": "2022-02-03T12:55:12.336Z"
   },
   {
    "duration": 149,
    "start_time": "2022-02-03T12:55:12.468Z"
   },
   {
    "duration": 111,
    "start_time": "2022-02-03T12:55:12.620Z"
   },
   {
    "duration": 123,
    "start_time": "2022-02-03T12:55:12.734Z"
   },
   {
    "duration": 5,
    "start_time": "2022-02-03T12:55:12.860Z"
   },
   {
    "duration": 43,
    "start_time": "2022-02-03T12:55:12.868Z"
   },
   {
    "duration": 16,
    "start_time": "2022-02-03T12:55:12.914Z"
   },
   {
    "duration": 79,
    "start_time": "2022-02-03T12:55:12.933Z"
   },
   {
    "duration": 74,
    "start_time": "2022-02-03T12:55:13.024Z"
   },
   {
    "duration": 22,
    "start_time": "2022-02-03T12:55:13.101Z"
   },
   {
    "duration": 21,
    "start_time": "2022-02-03T12:55:13.126Z"
   },
   {
    "duration": 24,
    "start_time": "2022-02-03T12:55:13.150Z"
   },
   {
    "duration": 57,
    "start_time": "2022-02-03T12:55:13.179Z"
   },
   {
    "duration": 20,
    "start_time": "2022-02-03T12:55:13.239Z"
   },
   {
    "duration": 22,
    "start_time": "2022-02-03T12:55:13.261Z"
   },
   {
    "duration": 52,
    "start_time": "2022-02-03T12:55:13.286Z"
   },
   {
    "duration": 14,
    "start_time": "2022-02-03T12:55:13.340Z"
   },
   {
    "duration": 30,
    "start_time": "2022-02-03T12:55:13.357Z"
   },
   {
    "duration": 58,
    "start_time": "2022-02-03T12:55:13.389Z"
   },
   {
    "duration": 5,
    "start_time": "2022-02-03T12:55:13.450Z"
   },
   {
    "duration": 38,
    "start_time": "2022-02-03T12:55:13.458Z"
   },
   {
    "duration": 34,
    "start_time": "2022-02-03T12:55:13.498Z"
   },
   {
    "duration": 22,
    "start_time": "2022-02-03T12:55:13.535Z"
   },
   {
    "duration": 17,
    "start_time": "2022-02-03T12:55:13.559Z"
   },
   {
    "duration": 50,
    "start_time": "2022-02-03T12:55:13.578Z"
   },
   {
    "duration": 6,
    "start_time": "2022-02-03T12:55:13.631Z"
   },
   {
    "duration": 15,
    "start_time": "2022-02-03T12:55:13.639Z"
   },
   {
    "duration": 5,
    "start_time": "2022-02-03T12:55:13.657Z"
   },
   {
    "duration": 17,
    "start_time": "2022-02-03T12:55:28.587Z"
   },
   {
    "duration": 5,
    "start_time": "2022-02-03T12:56:40.058Z"
   },
   {
    "duration": 93,
    "start_time": "2022-02-03T12:58:05.987Z"
   },
   {
    "duration": 94,
    "start_time": "2022-02-03T12:58:43.886Z"
   },
   {
    "duration": 20,
    "start_time": "2022-02-03T13:00:21.484Z"
   },
   {
    "duration": 9,
    "start_time": "2022-02-03T13:00:35.015Z"
   },
   {
    "duration": 81,
    "start_time": "2022-02-03T13:01:10.859Z"
   },
   {
    "duration": 46,
    "start_time": "2022-02-03T13:01:50.635Z"
   },
   {
    "duration": 14,
    "start_time": "2022-02-03T13:03:16.126Z"
   },
   {
    "duration": 16,
    "start_time": "2022-02-03T13:05:12.709Z"
   },
   {
    "duration": 729,
    "start_time": "2022-02-03T13:05:29.954Z"
   },
   {
    "duration": 190,
    "start_time": "2022-02-03T13:05:30.686Z"
   },
   {
    "duration": 27,
    "start_time": "2022-02-03T13:05:30.879Z"
   },
   {
    "duration": 50,
    "start_time": "2022-02-03T13:05:30.909Z"
   },
   {
    "duration": 12,
    "start_time": "2022-02-03T13:05:30.961Z"
   },
   {
    "duration": 34,
    "start_time": "2022-02-03T13:05:30.975Z"
   },
   {
    "duration": 11,
    "start_time": "2022-02-03T13:05:31.012Z"
   },
   {
    "duration": 38,
    "start_time": "2022-02-03T13:05:31.026Z"
   },
   {
    "duration": 41,
    "start_time": "2022-02-03T13:05:31.067Z"
   },
   {
    "duration": 36,
    "start_time": "2022-02-03T13:05:31.110Z"
   },
   {
    "duration": 98,
    "start_time": "2022-02-03T13:05:31.148Z"
   },
   {
    "duration": 102,
    "start_time": "2022-02-03T13:05:31.249Z"
   },
   {
    "duration": 82,
    "start_time": "2022-02-03T13:05:31.354Z"
   },
   {
    "duration": 122,
    "start_time": "2022-02-03T13:05:31.438Z"
   },
   {
    "duration": 4,
    "start_time": "2022-02-03T13:05:31.562Z"
   },
   {
    "duration": 34,
    "start_time": "2022-02-03T13:05:31.568Z"
   },
   {
    "duration": 49,
    "start_time": "2022-02-03T13:05:31.605Z"
   },
   {
    "duration": 17,
    "start_time": "2022-02-03T13:05:31.656Z"
   },
   {
    "duration": 13,
    "start_time": "2022-02-03T13:05:31.675Z"
   },
   {
    "duration": 32,
    "start_time": "2022-02-03T13:05:31.691Z"
   },
   {
    "duration": 35,
    "start_time": "2022-02-03T13:05:31.725Z"
   },
   {
    "duration": 20,
    "start_time": "2022-02-03T13:05:31.762Z"
   },
   {
    "duration": 18,
    "start_time": "2022-02-03T13:05:31.787Z"
   },
   {
    "duration": 19,
    "start_time": "2022-02-03T13:05:31.824Z"
   },
   {
    "duration": 28,
    "start_time": "2022-02-03T13:05:31.845Z"
   },
   {
    "duration": 22,
    "start_time": "2022-02-03T13:05:31.875Z"
   },
   {
    "duration": 32,
    "start_time": "2022-02-03T13:05:31.899Z"
   },
   {
    "duration": 39,
    "start_time": "2022-02-03T13:05:31.934Z"
   },
   {
    "duration": 26,
    "start_time": "2022-02-03T13:05:31.975Z"
   },
   {
    "duration": 22,
    "start_time": "2022-02-03T13:05:32.003Z"
   },
   {
    "duration": 34,
    "start_time": "2022-02-03T13:05:32.027Z"
   },
   {
    "duration": 17,
    "start_time": "2022-02-03T13:05:32.064Z"
   },
   {
    "duration": 47,
    "start_time": "2022-02-03T13:05:32.084Z"
   },
   {
    "duration": 18,
    "start_time": "2022-02-03T13:05:32.133Z"
   },
   {
    "duration": 17,
    "start_time": "2022-02-03T13:05:32.153Z"
   },
   {
    "duration": 5,
    "start_time": "2022-02-03T13:05:32.173Z"
   },
   {
    "duration": 51,
    "start_time": "2022-02-03T13:05:32.180Z"
   },
   {
    "duration": 7,
    "start_time": "2022-02-03T13:05:32.234Z"
   }
  ],
  "colab": {
   "collapsed_sections": [
    "E0vqbgi9ay0H",
    "VUC88oWjTJw2"
   ],
   "name": "yandex_music_project_2021.2.ipynb",
   "provenance": []
  },
  "kernelspec": {
   "display_name": "Python 3 (ipykernel)",
   "language": "python",
   "name": "python3"
  },
  "language_info": {
   "codemirror_mode": {
    "name": "ipython",
    "version": 3
   },
   "file_extension": ".py",
   "mimetype": "text/x-python",
   "name": "python",
   "nbconvert_exporter": "python",
   "pygments_lexer": "ipython3",
   "version": "3.9.5"
  },
  "toc": {
   "base_numbering": 1,
   "nav_menu": {},
   "number_sections": true,
   "sideBar": true,
   "skip_h1_title": true,
   "title_cell": "Table of Contents",
   "title_sidebar": "Contents",
   "toc_cell": false,
   "toc_position": {},
   "toc_section_display": true,
   "toc_window_display": true
  }
 },
 "nbformat": 4,
 "nbformat_minor": 1
}
